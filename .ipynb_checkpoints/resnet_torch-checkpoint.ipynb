{
 "cells": [
  {
   "cell_type": "code",
   "execution_count": 91,
   "id": "7952d312-d291-46e7-99da-d23a0f7ce1ff",
   "metadata": {},
   "outputs": [],
   "source": [
    "from posixpath import join\n",
    "from torch.utils.data import DataLoader\n",
    "import os\n",
    "import sys\n",
    "import random\n",
    "\n",
    "import numpy as np\n",
    "import SimpleITK as sitk\n",
    "import torch\n",
    "import copick\n",
    "import zarr\n",
    "from torch.utils.data import Dataset as dataset\n",
    "from torchvision.transforms import RandomCrop\n",
    "\n",
    "\n",
    "class RandomCrop:\n",
    "    def __init__(self, slices):\n",
    "        self.slices =  slices\n",
    "\n",
    "    def _get_range(self, slices, crop_slices):\n",
    "        if slices < crop_slices:\n",
    "            start = 0\n",
    "        else:\n",
    "            start = random.randint(0, slices - crop_slices)\n",
    "        end = start + crop_slices\n",
    "        if end > slices:\n",
    "            end = slices\n",
    "        return start, end\n",
    "\n",
    "    def __call__(self, img, mask):\n",
    "\n",
    "        ss, es = self._get_range(mask.size(1), self.slices)\n",
    "        \n",
    "        # print(self.shape, img.shape, mask.shape)\n",
    "        tmp_img = torch.zeros((img.size(0), self.slices, img.size(2), img.size(3)))\n",
    "        tmp_mask = torch.zeros((mask.size(0), self.slices, mask.size(2), mask.size(3)))\n",
    "        tmp_img[:,:es-ss] = img[:,ss:es]\n",
    "        tmp_mask[:,:es-ss] = mask[:,ss:es]\n",
    "        return tmp_img, tmp_mask\n",
    "    \n",
    "class Train_Dataset_Cryoet(dataset):\n",
    "    def __init__(self, config):\n",
    "\n",
    "        self.filename_list = self.load_file_name_list('train_split.txt')\n",
    "        self.copickRoot = copick.from_file(config)\n",
    "        \n",
    "        #self.crop = RandomCrop(48)\n",
    "        \n",
    "\n",
    "    def __getitem__(self, index):\n",
    "\n",
    "        run = self.copickRoot.get_run(self.filename_list[index])\n",
    "        \n",
    "        seg= run.get_segmentations(name=\"remotetargets\",user_id=\"deepfindET\",session_id=\"0\")[0]\n",
    "        store = seg.zarr()\n",
    "        seg_array = zarr.open(store, mode=\"r\")[0][:]\n",
    "\n",
    "        tomogram = run.get_voxel_spacing(10).get_tomograms(\"denoised\")[0]\n",
    "        ct_array = zarr.open(tomogram.zarr())[0][:]\n",
    "        \n",
    "        ct_array = ct_array.astype(np.float32)\n",
    "\n",
    "        ct_array = torch.FloatTensor(ct_array).unsqueeze(0)\n",
    "        seg_array = torch.FloatTensor(seg_array).unsqueeze(0)\n",
    "        \n",
    "        #ct_array,seg_array = self.crop(ct_array, seg_array)    \n",
    "        \n",
    "        return ct_array, seg_array.squeeze(0)\n",
    "\n",
    "    def __len__(self):\n",
    "        return len(self.filename_list)\n",
    "\n",
    "    def load_file_name_list(self, file_path):\n",
    "        file_name_list = []\n",
    "        with open(file_path, 'r') as file_to_read:\n",
    "            while True:\n",
    "                lines = file_to_read.readline().strip()  # 整行读取数据\n",
    "                if not lines:\n",
    "                    break\n",
    "                file_name_list.append(lines.split()[0])\n",
    "        print(file_name_list)\n",
    "        return file_name_list\n",
    "\n"
   ]
  },
  {
   "cell_type": "code",
   "execution_count": 92,
   "id": "51199763-1852-4f00-96d6-4e021fd71add",
   "metadata": {
    "tags": []
   },
   "outputs": [
    {
     "name": "stdout",
     "output_type": "stream",
     "text": [
      "['TS_5_4', 'TS_69_2', 'TS_6_4', 'TS_6_6', 'TS_73_6', 'TS_99_9']\n"
     ]
    },
    {
     "data": {
      "text/plain": [
       "torch.Size([1, 184, 630, 630])"
      ]
     },
     "execution_count": 92,
     "metadata": {},
     "output_type": "execute_result"
    }
   ],
   "source": [
    "train_dataset = Train_Dataset_Cryoet(\"train_copick.config\")\n",
    "next(iter(train_dataset))[0].shape"
   ]
  },
  {
   "cell_type": "code",
   "execution_count": 74,
   "id": "4cc821af-72cf-422d-8542-4bfea84cbd7c",
   "metadata": {
    "tags": []
   },
   "outputs": [],
   "source": [
    "class Train_Dataset(dataset):\n",
    "    def __init__(self, dataset_path):\n",
    "\n",
    "        self.filename_list = self.load_file_name_list(os.path.join(dataset_path, 'train_path_list.txt'))\n",
    "        self.crop = RandomCrop(48)\n",
    "        self.copickRoot = copick.from_file(config)\n",
    "\n",
    "    def __getitem__(self, index):\n",
    "\n",
    "        ct = sitk.ReadImage(self.filename_list[index][0], sitk.sitkInt16)\n",
    "        seg = sitk.ReadImage(self.filename_list[index][1], sitk.sitkUInt8)\n",
    "\n",
    "        ct_array = sitk.GetArrayFromImage(ct)\n",
    "        seg_array = sitk.GetArrayFromImage(seg)\n",
    "\n",
    "        ct_array = ct_array / 200\n",
    "        ct_array = ct_array.astype(np.float32)\n",
    "\n",
    "        ct_array = torch.FloatTensor(ct_array).unsqueeze(0)\n",
    "        seg_array = torch.FloatTensor(seg_array).unsqueeze(0)\n",
    "        \n",
    "        ct_array,seg_array = self.crop(ct_array, seg_array)    \n",
    "        \n",
    "        return ct_array, seg_array.squeeze(0)\n",
    "\n",
    "    def __len__(self):\n",
    "        return len(self.filename_list)\n",
    "\n",
    "    def load_file_name_list(self, file_path):\n",
    "        file_name_list = []\n",
    "        with open(file_path, 'r') as file_to_read:\n",
    "            while True:\n",
    "                lines = file_to_read.readline().strip()  # 整行读取数据\n",
    "                if not lines:\n",
    "                    break\n",
    "                file_name_list.append(lines.split())\n",
    "        return file_name_list\n"
   ]
  },
  {
   "cell_type": "code",
   "execution_count": 31,
   "id": "35f9eae6-66e8-4116-b0c0-ac89c6aabc62",
   "metadata": {
    "tags": []
   },
   "outputs": [],
   "source": [
    "train_dataset = Train_Dataset(\"/bigwork/nhwpajjy/competition/sampled_fixet_lits\")\n",
    "train_loader = DataLoader(dataset=train_dataset,batch_size=2,num_workers=12, shuffle=True)\n",
    "#for _ in train_loader:\n",
    "#    pass"
   ]
  },
  {
   "cell_type": "code",
   "execution_count": 27,
   "id": "fb4e6121-8e77-4e7d-80cb-a0298ab14da1",
   "metadata": {
    "tags": []
   },
   "outputs": [],
   "source": [
    "class Val_Dataset(dataset):\n",
    "    def __init__(self, dataset_path):\n",
    "\n",
    "\n",
    "        self.filename_list = self.load_file_name_list('val_split.txt')\n",
    "        self.crop = RandomCrop(48)\n",
    "\n",
    "    def __getitem__(self, index):\n",
    "\n",
    "        ct = sitk.ReadImage(self.filename_list[index][0], sitk.sitkInt16)\n",
    "        seg = sitk.ReadImage(self.filename_list[index][1], sitk.sitkUInt8)\n",
    "\n",
    "        ct_array = sitk.GetArrayFromImage(ct)\n",
    "        seg_array = sitk.GetArrayFromImage(seg)\n",
    "\n",
    "        ct_array = ct_array / 200\n",
    "        ct_array = ct_array.astype(np.float32)\n",
    "\n",
    "        ct_array = torch.FloatTensor(ct_array).unsqueeze(0)\n",
    "        seg_array = torch.FloatTensor(seg_array).unsqueeze(0)\n",
    "        ct_array,seg_array = self.crop(ct_array, seg_array)\n",
    "        return ct_array, seg_array.squeeze(0)\n",
    "\n",
    "    def __len__(self):\n",
    "        return len(self.filename_list)\n",
    "\n",
    "    def load_file_name_list(self, file_path):\n",
    "        file_name_list = []\n",
    "        with open(file_path, 'r') as file_to_read:\n",
    "            while True:\n",
    "                lines = file_to_read.readline().strip()  # 整行读取数据\n",
    "                if not lines:\n",
    "                    break\n",
    "                file_name_list.append(lines.split())\n",
    "        return file_name_list"
   ]
  },
  {
   "cell_type": "code",
   "execution_count": null,
   "id": "52f01aa0-735b-4956-bf41-75904144c777",
   "metadata": {},
   "outputs": [],
   "source": [
    "class Val_Dataset_Cryoet(dataset):\n",
    "    def __init__(self, dataset_path):\n",
    "\n",
    "\n",
    "        self.filename_list = self.load_file_name_list(os.path.join(dataset_path, 'val_path_list.txt'))\n",
    "        self.crop = RandomCrop(48)\n",
    "\n",
    "    def __getitem__(self, index):\n",
    "\n",
    "        ct = sitk.ReadImage(self.filename_list[index][0], sitk.sitkInt16)\n",
    "        seg = sitk.ReadImage(self.filename_list[index][1], sitk.sitkUInt8)\n",
    "\n",
    "        ct_array = sitk.GetArrayFromImage(ct)\n",
    "        seg_array = sitk.GetArrayFromImage(seg)\n",
    "\n",
    "        ct_array = ct_array / 200\n",
    "        ct_array = ct_array.astype(np.float32)\n",
    "\n",
    "        ct_array = torch.FloatTensor(ct_array).unsqueeze(0)\n",
    "        seg_array = torch.FloatTensor(seg_array).unsqueeze(0)\n",
    "        ct_array,seg_array = self.crop(ct_array, seg_array)\n",
    "        return ct_array, seg_array.squeeze(0)\n",
    "\n",
    "    def __len__(self):\n",
    "        return len(self.filename_list)\n",
    "\n",
    "    def load_file_name_list(self, file_path):\n",
    "        file_name_list = []\n",
    "        with open(file_path, 'r') as file_to_read:\n",
    "            while True:\n",
    "                lines = file_to_read.readline().strip()  # 整行读取数据\n",
    "                if not lines:\n",
    "                    break\n",
    "                file_name_list.append(lines.split())\n",
    "        return file_name_list"
   ]
  },
  {
   "cell_type": "code",
   "execution_count": 32,
   "id": "afea2a47-4b97-4aa1-864a-c1e668462d5b",
   "metadata": {
    "tags": []
   },
   "outputs": [],
   "source": [
    "val_dataset = Val_Dataset(\"/bigwork/nhwpajjy/competition/sampled_fixet_lits\")\n",
    "val_loader = DataLoader(dataset=val_dataset,batch_size=1,num_workers=12, shuffle=False)\n",
    "for _ in val_loader:\n",
    "    pass"
   ]
  },
  {
   "cell_type": "code",
   "execution_count": 52,
   "id": "8279fb1f-4498-4a1e-b342-06217ddfaa4a",
   "metadata": {
    "tags": []
   },
   "outputs": [
    {
     "name": "stderr",
     "output_type": "stream",
     "text": [
      "Exception ignored in: Exception in thread QueueFeederThread:\n",
      "Traceback (most recent call last):\n",
      "  File \"/sw/apps/software/noarch/Miniforge3/24.7.1-2/lib/python3.12/multiprocessing/queues.py\", line 259, in _feed\n",
      "Exception in thread QueueFeederThread:\n",
      "Traceback (most recent call last):\n",
      "  File \"/sw/apps/software/noarch/Miniforge3/24.7.1-2/lib/python3.12/multiprocessing/queues.py\", line 259, in _feed\n",
      "Exception in thread QueueFeederThread:\n",
      "Traceback (most recent call last):\n",
      "  File \"/sw/apps/software/noarch/Miniforge3/24.7.1-2/lib/python3.12/multiprocessing/queues.py\", line 259, in _feed\n",
      "<function _ConnectionBase.__del__ at 0x14ba08e1a200>\n",
      "Traceback (most recent call last):\n",
      "  File \"/sw/apps/software/noarch/Miniforge3/24.7.1-2/lib/python3.12/multiprocessing/connection.py\", line 133, in __del__\n",
      "    reader_close()\n",
      "  File \"/sw/apps/software/noarch/Miniforge3/24.7.1-2/lib/python3.12/multiprocessing/connection.py\", line 178, in close\n",
      "    reader_close()\n",
      "  File \"/sw/apps/software/noarch/Miniforge3/24.7.1-2/lib/python3.12/multiprocessing/connection.py\", line 178, in close\n",
      "    self._close()\n",
      "  File \"/sw/apps/software/noarch/Miniforge3/24.7.1-2/lib/python3.12/multiprocessing/connection.py\", line 377, in _close\n",
      "    self._close()\n",
      "  File \"/sw/apps/software/noarch/Miniforge3/24.7.1-2/lib/python3.12/multiprocessing/connection.py\", line 377, in _close\n",
      "    _close(self._handle)\n",
      "OSError: [Errno 9] Bad file descriptor\n",
      "    reader_close()\n",
      "  File \"/sw/apps/software/noarch/Miniforge3/24.7.1-2/lib/python3.12/multiprocessing/connection.py\", line 178, in close\n",
      "    self._close()\n",
      "  File \"/sw/apps/software/noarch/Miniforge3/24.7.1-2/lib/python3.12/multiprocessing/connection.py\", line 377, in _close\n",
      "    _close(self._handle)\n",
      "OSError: [Errno 9] Bad file descriptor\n",
      "\n",
      "During handling of the above exception, another exception occurred:\n",
      "\n",
      "Traceback (most recent call last):\n",
      "  File \"/sw/apps/software/noarch/Miniforge3/24.7.1-2/lib/python3.12/threading.py\", line 1075, in _bootstrap_inner\n",
      "    _close(self._handle)\n",
      "OSError: [Errno 9] Bad file descriptor\n",
      "\n",
      "During handling of the above exception, another exception occurred:\n",
      "\n",
      "Traceback (most recent call last):\n",
      "  File \"/sw/apps/software/noarch/Miniforge3/24.7.1-2/lib/python3.12/threading.py\", line 1075, in _bootstrap_inner\n",
      "    self.run()\n",
      "  File \"/home/nhwpajjy/.local/lib/python3.12/site-packages/ipykernel/ipkernel.py\", line 766, in run_closure\n",
      "    self.run()\n",
      "  File \"/home/nhwpajjy/.local/lib/python3.12/site-packages/ipykernel/ipkernel.py\", line 766, in run_closure\n",
      "    self._close()\n",
      "  File \"/sw/apps/software/noarch/Miniforge3/24.7.1-2/lib/python3.12/multiprocessing/connection.py\", line 377, in _close\n",
      "    _threading_Thread_run(self)\n",
      "  File \"/sw/apps/software/noarch/Miniforge3/24.7.1-2/lib/python3.12/threading.py\", line 1012, in run\n",
      "    _threading_Thread_run(self)\n",
      "  File \"/sw/apps/software/noarch/Miniforge3/24.7.1-2/lib/python3.12/threading.py\", line 1012, in run\n",
      "    _close(self._handle)\n",
      "OSError: [Errno 9] Bad file descriptor\n",
      "\n",
      "During handling of the above exception, another exception occurred:\n",
      "\n",
      "Traceback (most recent call last):\n",
      "  File \"/sw/apps/software/noarch/Miniforge3/24.7.1-2/lib/python3.12/threading.py\", line 1075, in _bootstrap_inner\n",
      "    self._target(*self._args, **self._kwargs)\n",
      "  File \"/sw/apps/software/noarch/Miniforge3/24.7.1-2/lib/python3.12/multiprocessing/queues.py\", line 291, in _feed\n",
      "    self.run()\n",
      "  File \"/home/nhwpajjy/.local/lib/python3.12/site-packages/ipykernel/ipkernel.py\", line 766, in run_closure\n",
      "    self._target(*self._args, **self._kwargs)\n",
      "  File \"/sw/apps/software/noarch/Miniforge3/24.7.1-2/lib/python3.12/multiprocessing/queues.py\", line 291, in _feed\n",
      "    _threading_Thread_run(self)\n",
      "  File \"/sw/apps/software/noarch/Miniforge3/24.7.1-2/lib/python3.12/threading.py\", line 1012, in run\n",
      "    queue_sem.release()\n",
      "ValueError: semaphore or lock released too many times\n",
      "    queue_sem.release()\n",
      "ValueError: semaphore or lock released too many times\n",
      "    self._target(*self._args, **self._kwargs)\n",
      "  File \"/sw/apps/software/noarch/Miniforge3/24.7.1-2/lib/python3.12/multiprocessing/queues.py\", line 291, in _feed\n",
      "    queue_sem.release()\n",
      "ValueError: semaphore or lock released too many times\n",
      "Exception in thread QueueFeederThread:\n",
      "Traceback (most recent call last):\n",
      "  File \"/sw/apps/software/noarch/Miniforge3/24.7.1-2/lib/python3.12/multiprocessing/queues.py\", line 259, in _feed\n",
      "Exception in thread QueueFeederThread:\n",
      "Traceback (most recent call last):\n",
      "  File \"/sw/apps/software/noarch/Miniforge3/24.7.1-2/lib/python3.12/multiprocessing/queues.py\", line 259, in _feed\n",
      "Exception in thread QueueFeederThread:\n",
      "Traceback (most recent call last):\n",
      "  File \"/sw/apps/software/noarch/Miniforge3/24.7.1-2/lib/python3.12/multiprocessing/queues.py\", line 259, in _feed\n",
      "Exception in thread QueueFeederThread:\n",
      "Traceback (most recent call last):\n",
      "  File \"/sw/apps/software/noarch/Miniforge3/24.7.1-2/lib/python3.12/multiprocessing/queues.py\", line 259, in _feed\n",
      "Exception in thread QueueFeederThread:\n",
      "Traceback (most recent call last):\n",
      "  File \"/sw/apps/software/noarch/Miniforge3/24.7.1-2/lib/python3.12/multiprocessing/queues.py\", line 259, in _feed\n",
      "Exception in thread QueueFeederThread:\n",
      "Traceback (most recent call last):\n",
      "  File \"/sw/apps/software/noarch/Miniforge3/24.7.1-2/lib/python3.12/multiprocessing/queues.py\", line 259, in _feed\n",
      "Exception in thread QueueFeederThread:\n",
      "Traceback (most recent call last):\n",
      "  File \"/sw/apps/software/noarch/Miniforge3/24.7.1-2/lib/python3.12/multiprocessing/queues.py\", line 259, in _feed\n",
      "Exception in thread QueueFeederThread:\n",
      "Traceback (most recent call last):\n",
      "  File \"/sw/apps/software/noarch/Miniforge3/24.7.1-2/lib/python3.12/multiprocessing/queues.py\", line 259, in _feed\n",
      "    reader_close()\n",
      "  File \"/sw/apps/software/noarch/Miniforge3/24.7.1-2/lib/python3.12/multiprocessing/connection.py\", line 178, in close\n",
      "Exception in thread QueueFeederThread:\n",
      "Traceback (most recent call last):\n",
      "  File \"/sw/apps/software/noarch/Miniforge3/24.7.1-2/lib/python3.12/multiprocessing/queues.py\", line 259, in _feed\n",
      "    self._close()\n",
      "  File \"/sw/apps/software/noarch/Miniforge3/24.7.1-2/lib/python3.12/multiprocessing/connection.py\", line 377, in _close\n",
      "    reader_close()\n",
      "  File \"/sw/apps/software/noarch/Miniforge3/24.7.1-2/lib/python3.12/multiprocessing/connection.py\", line 178, in close\n",
      "    reader_close()\n",
      "  File \"/sw/apps/software/noarch/Miniforge3/24.7.1-2/lib/python3.12/multiprocessing/connection.py\", line 178, in close\n",
      "    reader_close()\n",
      "  File \"/sw/apps/software/noarch/Miniforge3/24.7.1-2/lib/python3.12/multiprocessing/connection.py\", line 178, in close\n",
      "    reader_close()\n",
      "  File \"/sw/apps/software/noarch/Miniforge3/24.7.1-2/lib/python3.12/multiprocessing/connection.py\", line 178, in close\n",
      "    reader_close()\n",
      "  File \"/sw/apps/software/noarch/Miniforge3/24.7.1-2/lib/python3.12/multiprocessing/connection.py\", line 178, in close\n",
      "    self._close()\n",
      "  File \"/sw/apps/software/noarch/Miniforge3/24.7.1-2/lib/python3.12/multiprocessing/connection.py\", line 377, in _close\n",
      "    self._close()\n",
      "  File \"/sw/apps/software/noarch/Miniforge3/24.7.1-2/lib/python3.12/multiprocessing/connection.py\", line 377, in _close\n",
      "    reader_close()\n",
      "  File \"/sw/apps/software/noarch/Miniforge3/24.7.1-2/lib/python3.12/multiprocessing/connection.py\", line 178, in close\n",
      "    self._close()\n",
      "  File \"/sw/apps/software/noarch/Miniforge3/24.7.1-2/lib/python3.12/multiprocessing/connection.py\", line 377, in _close\n",
      "    reader_close()\n",
      "  File \"/sw/apps/software/noarch/Miniforge3/24.7.1-2/lib/python3.12/multiprocessing/connection.py\", line 178, in close\n",
      "    _close(self._handle)\n",
      "OSError: [Errno 9] Bad file descriptor\n",
      "\n",
      "During handling of the above exception, another exception occurred:\n",
      "\n",
      "Traceback (most recent call last):\n",
      "  File \"/sw/apps/software/noarch/Miniforge3/24.7.1-2/lib/python3.12/threading.py\", line 1075, in _bootstrap_inner\n",
      "    self._close()\n",
      "  File \"/sw/apps/software/noarch/Miniforge3/24.7.1-2/lib/python3.12/multiprocessing/connection.py\", line 377, in _close\n",
      "    self.run()\n",
      "  File \"/home/nhwpajjy/.local/lib/python3.12/site-packages/ipykernel/ipkernel.py\", line 766, in run_closure\n",
      "    self._close()\n",
      "  File \"/sw/apps/software/noarch/Miniforge3/24.7.1-2/lib/python3.12/multiprocessing/connection.py\", line 377, in _close\n",
      "    _close(self._handle)\n",
      "OSError: [Errno 9] Bad file descriptor\n",
      "\n",
      "During handling of the above exception, another exception occurred:\n",
      "\n",
      "Traceback (most recent call last):\n",
      "  File \"/sw/apps/software/noarch/Miniforge3/24.7.1-2/lib/python3.12/threading.py\", line 1075, in _bootstrap_inner\n",
      "    _close(self._handle)\n",
      "OSError: [Errno 9] Bad file descriptor\n",
      "\n",
      "During handling of the above exception, another exception occurred:\n",
      "\n",
      "Traceback (most recent call last):\n",
      "  File \"/sw/apps/software/noarch/Miniforge3/24.7.1-2/lib/python3.12/threading.py\", line 1075, in _bootstrap_inner\n",
      "    self._close()\n",
      "  File \"/sw/apps/software/noarch/Miniforge3/24.7.1-2/lib/python3.12/multiprocessing/connection.py\", line 377, in _close\n",
      "    _close(self._handle)\n",
      "OSError: [Errno 9] Bad file descriptor\n",
      "\n",
      "During handling of the above exception, another exception occurred:\n",
      "\n",
      "Traceback (most recent call last):\n",
      "  File \"/sw/apps/software/noarch/Miniforge3/24.7.1-2/lib/python3.12/threading.py\", line 1075, in _bootstrap_inner\n",
      "    self.run()\n",
      "  File \"/home/nhwpajjy/.local/lib/python3.12/site-packages/ipykernel/ipkernel.py\", line 766, in run_closure\n",
      "    reader_close()\n",
      "  File \"/sw/apps/software/noarch/Miniforge3/24.7.1-2/lib/python3.12/multiprocessing/connection.py\", line 178, in close\n",
      "    _close(self._handle)\n",
      "OSError: [Errno 9] Bad file descriptor\n",
      "\n",
      "During handling of the above exception, another exception occurred:\n",
      "\n",
      "Traceback (most recent call last):\n",
      "  File \"/sw/apps/software/noarch/Miniforge3/24.7.1-2/lib/python3.12/threading.py\", line 1075, in _bootstrap_inner\n",
      "    _close(self._handle)\n",
      "OSError: [Errno 9] Bad file descriptor\n",
      "\n",
      "During handling of the above exception, another exception occurred:\n",
      "\n",
      "Traceback (most recent call last):\n",
      "  File \"/sw/apps/software/noarch/Miniforge3/24.7.1-2/lib/python3.12/threading.py\", line 1075, in _bootstrap_inner\n",
      "    self.run()\n",
      "  File \"/home/nhwpajjy/.local/lib/python3.12/site-packages/ipykernel/ipkernel.py\", line 766, in run_closure\n",
      "    self.run()\n",
      "  File \"/home/nhwpajjy/.local/lib/python3.12/site-packages/ipykernel/ipkernel.py\", line 766, in run_closure\n",
      "    self._close()\n",
      "  File \"/sw/apps/software/noarch/Miniforge3/24.7.1-2/lib/python3.12/multiprocessing/connection.py\", line 377, in _close\n",
      "    self.run()\n",
      "  File \"/home/nhwpajjy/.local/lib/python3.12/site-packages/ipykernel/ipkernel.py\", line 766, in run_closure\n",
      "    _close(self._handle)\n",
      "OSError: [Errno 9] Bad file descriptor\n",
      "\n",
      "During handling of the above exception, another exception occurred:\n",
      "\n",
      "Traceback (most recent call last):\n",
      "  File \"/sw/apps/software/noarch/Miniforge3/24.7.1-2/lib/python3.12/threading.py\", line 1075, in _bootstrap_inner\n",
      "    self._close()\n",
      "  File \"/sw/apps/software/noarch/Miniforge3/24.7.1-2/lib/python3.12/multiprocessing/connection.py\", line 377, in _close\n",
      "    _threading_Thread_run(self)\n",
      "  File \"/sw/apps/software/noarch/Miniforge3/24.7.1-2/lib/python3.12/threading.py\", line 1012, in run\n",
      "    _close(self._handle)\n",
      "OSError: [Errno 9] Bad file descriptor\n",
      "\n",
      "During handling of the above exception, another exception occurred:\n",
      "\n",
      "Traceback (most recent call last):\n",
      "  File \"/sw/apps/software/noarch/Miniforge3/24.7.1-2/lib/python3.12/threading.py\", line 1075, in _bootstrap_inner\n",
      "    _threading_Thread_run(self)\n",
      "  File \"/sw/apps/software/noarch/Miniforge3/24.7.1-2/lib/python3.12/threading.py\", line 1012, in run\n",
      "    self.run()\n",
      "  File \"/home/nhwpajjy/.local/lib/python3.12/site-packages/ipykernel/ipkernel.py\", line 766, in run_closure\n",
      "    self.run()\n",
      "  File \"/home/nhwpajjy/.local/lib/python3.12/site-packages/ipykernel/ipkernel.py\", line 766, in run_closure\n",
      "    _close(self._handle)\n",
      "OSError: [Errno 9] Bad file descriptor\n",
      "\n",
      "During handling of the above exception, another exception occurred:\n",
      "\n",
      "Traceback (most recent call last):\n",
      "  File \"/sw/apps/software/noarch/Miniforge3/24.7.1-2/lib/python3.12/threading.py\", line 1075, in _bootstrap_inner\n",
      "    _threading_Thread_run(self)\n",
      "  File \"/sw/apps/software/noarch/Miniforge3/24.7.1-2/lib/python3.12/threading.py\", line 1012, in run\n",
      "    self._target(*self._args, **self._kwargs)\n",
      "  File \"/sw/apps/software/noarch/Miniforge3/24.7.1-2/lib/python3.12/multiprocessing/queues.py\", line 291, in _feed\n",
      "    self._target(*self._args, **self._kwargs)\n",
      "  File \"/sw/apps/software/noarch/Miniforge3/24.7.1-2/lib/python3.12/multiprocessing/queues.py\", line 291, in _feed\n",
      "    _threading_Thread_run(self)\n",
      "  File \"/sw/apps/software/noarch/Miniforge3/24.7.1-2/lib/python3.12/threading.py\", line 1012, in run\n",
      "    queue_sem.release()\n",
      "ValueError: semaphore or lock released too many times\n",
      "    _threading_Thread_run(self)\n",
      "  File \"/sw/apps/software/noarch/Miniforge3/24.7.1-2/lib/python3.12/threading.py\", line 1012, in run\n",
      "    self.run()\n",
      "  File \"/home/nhwpajjy/.local/lib/python3.12/site-packages/ipykernel/ipkernel.py\", line 766, in run_closure\n",
      "    queue_sem.release()\n",
      "ValueError: semaphore or lock released too many times\n",
      "    self.run()\n",
      "  File \"/home/nhwpajjy/.local/lib/python3.12/site-packages/ipykernel/ipkernel.py\", line 766, in run_closure\n",
      "    _threading_Thread_run(self)\n",
      "  File \"/sw/apps/software/noarch/Miniforge3/24.7.1-2/lib/python3.12/threading.py\", line 1012, in run\n",
      "    _threading_Thread_run(self)\n",
      "  File \"/sw/apps/software/noarch/Miniforge3/24.7.1-2/lib/python3.12/threading.py\", line 1012, in run\n",
      "    self._target(*self._args, **self._kwargs)\n",
      "  File \"/sw/apps/software/noarch/Miniforge3/24.7.1-2/lib/python3.12/multiprocessing/queues.py\", line 291, in _feed\n",
      "    self._target(*self._args, **self._kwargs)\n",
      "  File \"/sw/apps/software/noarch/Miniforge3/24.7.1-2/lib/python3.12/multiprocessing/queues.py\", line 291, in _feed\n",
      "    self._target(*self._args, **self._kwargs)\n",
      "  File \"/sw/apps/software/noarch/Miniforge3/24.7.1-2/lib/python3.12/multiprocessing/queues.py\", line 291, in _feed\n",
      "    _threading_Thread_run(self)\n",
      "  File \"/sw/apps/software/noarch/Miniforge3/24.7.1-2/lib/python3.12/threading.py\", line 1012, in run\n",
      "    self._target(*self._args, **self._kwargs)\n",
      "  File \"/sw/apps/software/noarch/Miniforge3/24.7.1-2/lib/python3.12/multiprocessing/queues.py\", line 291, in _feed\n",
      "    self._target(*self._args, **self._kwargs)\n",
      "  File \"/sw/apps/software/noarch/Miniforge3/24.7.1-2/lib/python3.12/multiprocessing/queues.py\", line 291, in _feed\n",
      "    queue_sem.release()\n",
      "ValueError: semaphore or lock released too many times\n",
      "    queue_sem.release()\n",
      "ValueError: semaphore or lock released too many times\n",
      "    _threading_Thread_run(self)\n",
      "  File \"/sw/apps/software/noarch/Miniforge3/24.7.1-2/lib/python3.12/threading.py\", line 1012, in run\n",
      "    queue_sem.release()\n",
      "ValueError: semaphore or lock released too many times\n",
      "    self._target(*self._args, **self._kwargs)\n",
      "  File \"/sw/apps/software/noarch/Miniforge3/24.7.1-2/lib/python3.12/multiprocessing/queues.py\", line 291, in _feed\n",
      "    queue_sem.release()\n",
      "ValueError: semaphore or lock released too many times\n",
      "    queue_sem.release()\n",
      "ValueError: semaphore or lock released too many times\n",
      "    self._target(*self._args, **self._kwargs)\n",
      "  File \"/sw/apps/software/noarch/Miniforge3/24.7.1-2/lib/python3.12/multiprocessing/queues.py\", line 291, in _feed\n",
      "    queue_sem.release()\n",
      "ValueError: semaphore or lock released too many times\n",
      "    queue_sem.release()\n",
      "ValueError: semaphore or lock released too many times\n",
      "Exception ignored in: <function _ConnectionBase.__del__ at 0x14ba08e1a200>\n",
      "Traceback (most recent call last):\n",
      "  File \"/sw/apps/software/noarch/Miniforge3/24.7.1-2/lib/python3.12/multiprocessing/connection.py\", line 133, in __del__\n",
      "    self._close()\n",
      "  File \"/sw/apps/software/noarch/Miniforge3/24.7.1-2/lib/python3.12/multiprocessing/connection.py\", line 377, in _close\n",
      "    _close(self._handle)\n",
      "OSError: [Errno 9] Bad file descriptor\n"
     ]
    }
   ],
   "source": [
    "\"\"\"\n",
    "This code is referenced from https://github.com/assassint2017/MICCAI-LITS2017\n",
    "\"\"\"\n",
    "\n",
    "import torch\n",
    "import torch.nn as nn\n",
    "import torch.nn.functional as F\n",
    "\n",
    "\n",
    "class ResUNet(nn.Module):\n",
    "    def __init__(self, in_channel=1, out_channel=2 ,training=True):\n",
    "        super().__init__()\n",
    "\n",
    "        self.training = training\n",
    "        self.dorp_rate = 0.2\n",
    "\n",
    "        self.encoder_stage1 = nn.Sequential(\n",
    "            nn.Conv3d(in_channel, 16, 3, 1, padding=1),\n",
    "            nn.PReLU(16),\n",
    "\n",
    "            nn.Conv3d(16, 16, 3, 1, padding=1),\n",
    "            nn.PReLU(16),\n",
    "        )\n",
    "\n",
    "        self.encoder_stage2 = nn.Sequential(\n",
    "            nn.Conv3d(32, 32, 3, 1, padding=1),\n",
    "            nn.PReLU(32),\n",
    "\n",
    "            nn.Conv3d(32, 32, 3, 1, padding=1),\n",
    "            nn.PReLU(32),\n",
    "\n",
    "            nn.Conv3d(32, 32, 3, 1, padding=1),\n",
    "            nn.PReLU(32),\n",
    "        )\n",
    "\n",
    "        self.encoder_stage3 = nn.Sequential(\n",
    "            nn.Conv3d(64, 64, 3, 1, padding=1),\n",
    "            nn.PReLU(64),\n",
    "\n",
    "            nn.Conv3d(64, 64, 3, 1, padding=2, dilation=2),\n",
    "            nn.PReLU(64),\n",
    "\n",
    "            nn.Conv3d(64, 64, 3, 1, padding=4, dilation=4),\n",
    "            nn.PReLU(64),\n",
    "        )\n",
    "\n",
    "        self.encoder_stage4 = nn.Sequential(\n",
    "            nn.Conv3d(128, 128, 3, 1, padding=3, dilation=3),\n",
    "            nn.PReLU(128),\n",
    "\n",
    "            nn.Conv3d(128, 128, 3, 1, padding=4, dilation=4),\n",
    "            nn.PReLU(128),\n",
    "\n",
    "            nn.Conv3d(128, 128, 3, 1, padding=5, dilation=5),\n",
    "            nn.PReLU(128),\n",
    "        )\n",
    "\n",
    "        self.decoder_stage1 = nn.Sequential(\n",
    "            nn.Conv3d(128, 256, 3, 1, padding=1),\n",
    "            nn.PReLU(256),\n",
    "\n",
    "            nn.Conv3d(256, 256, 3, 1, padding=1),\n",
    "            nn.PReLU(256),\n",
    "\n",
    "            nn.Conv3d(256, 256, 3, 1, padding=1),\n",
    "            nn.PReLU(256),\n",
    "        )\n",
    "\n",
    "        self.decoder_stage2 = nn.Sequential(\n",
    "            nn.Conv3d(128 + 64, 128, 3, 1, padding=1),\n",
    "            nn.PReLU(128),\n",
    "\n",
    "            nn.Conv3d(128, 128, 3, 1, padding=1),\n",
    "            nn.PReLU(128),\n",
    "\n",
    "            nn.Conv3d(128, 128, 3, 1, padding=1),\n",
    "            nn.PReLU(128),\n",
    "        )\n",
    "\n",
    "        self.decoder_stage3 = nn.Sequential(\n",
    "            nn.Conv3d(64 + 32, 64, 3, 1, padding=1),\n",
    "            nn.PReLU(64),\n",
    "\n",
    "            nn.Conv3d(64, 64, 3, 1, padding=1),\n",
    "            nn.PReLU(64),\n",
    "\n",
    "            nn.Conv3d(64, 64, 3, 1, padding=1),\n",
    "            nn.PReLU(64),\n",
    "        )\n",
    "\n",
    "        self.decoder_stage4 = nn.Sequential(\n",
    "            nn.Conv3d(32 + 16, 32, 3, 1, padding=1),\n",
    "            nn.PReLU(32),\n",
    "\n",
    "            nn.Conv3d(32, 32, 3, 1, padding=1),\n",
    "            nn.PReLU(32),\n",
    "        )\n",
    "\n",
    "        self.down_conv1 = nn.Sequential(\n",
    "            nn.Conv3d(16, 32, 2, 2),\n",
    "            nn.PReLU(32)\n",
    "        )\n",
    "\n",
    "        self.down_conv2 = nn.Sequential(\n",
    "            nn.Conv3d(32, 64, 2, 2),\n",
    "            nn.PReLU(64)\n",
    "        )\n",
    "\n",
    "        self.down_conv3 = nn.Sequential(\n",
    "            nn.Conv3d(64, 128, 2, 2),\n",
    "            nn.PReLU(128)\n",
    "        )\n",
    "\n",
    "        self.down_conv4 = nn.Sequential(\n",
    "            nn.Conv3d(128, 256, 3, 1, padding=1),\n",
    "            nn.PReLU(256)\n",
    "        )\n",
    "\n",
    "        self.up_conv2 = nn.Sequential(\n",
    "            nn.ConvTranspose3d(256, 128, 2, 2),\n",
    "            nn.PReLU(128)\n",
    "        )\n",
    "\n",
    "        self.up_conv3 = nn.Sequential(\n",
    "            nn.ConvTranspose3d(128, 64, 2, 2),\n",
    "            nn.PReLU(64)\n",
    "        )\n",
    "\n",
    "        self.up_conv4 = nn.Sequential(\n",
    "            nn.ConvTranspose3d(64, 32, 2, 2),\n",
    "            nn.PReLU(32)\n",
    "        )\n",
    "\n",
    "        # The final large-scale mapping (256*256) is followed by decreasing scales.\n",
    "        self.map4 = nn.Sequential(\n",
    "            nn.Conv3d(32, out_channel, 1, 1),\n",
    "            nn.Upsample(scale_factor=(1, 1, 1), mode='trilinear', align_corners=False),\n",
    "            nn.Softmax(dim=1)\n",
    "        )\n",
    "\n",
    "        # 128*128 Mapping at scale\n",
    "        self.map3 = nn.Sequential(\n",
    "            nn.Conv3d(64, out_channel, 1, 1),\n",
    "            nn.Upsample(scale_factor=(2, 2, 2), mode='trilinear', align_corners=False),\n",
    "            nn.Softmax(dim=1)\n",
    "        )\n",
    "\n",
    "        # 64*64 Mapping at scale\n",
    "        self.map2 = nn.Sequential(\n",
    "            nn.Conv3d(128, out_channel, 1, 1),\n",
    "            nn.Upsample(scale_factor=(4, 4, 4), mode='trilinear', align_corners=False),\n",
    "\n",
    "            nn.Softmax(dim=1)\n",
    "        )\n",
    "\n",
    "        # 32*32 Mapping at scale\n",
    "        self.map1 = nn.Sequential(\n",
    "            nn.Conv3d(256, out_channel, 1, 1),\n",
    "            nn.Upsample(scale_factor=(8, 8, 8), mode='trilinear', align_corners=False),\n",
    "            nn.Softmax(dim=1)\n",
    "        )\n",
    "\n",
    "    def forward(self, inputs):\n",
    "\n",
    "        long_range1 = self.encoder_stage1(inputs) + inputs\n",
    "\n",
    "        short_range1 = self.down_conv1(long_range1)\n",
    "\n",
    "        long_range2 = self.encoder_stage2(short_range1) + short_range1\n",
    "        long_range2 = F.dropout(long_range2, self.dorp_rate, self.training)\n",
    "\n",
    "        short_range2 = self.down_conv2(long_range2)\n",
    "\n",
    "        long_range3 = self.encoder_stage3(short_range2) + short_range2\n",
    "        long_range3 = F.dropout(long_range3, self.dorp_rate, self.training)\n",
    "\n",
    "        short_range3 = self.down_conv3(long_range3)\n",
    "\n",
    "        long_range4 = self.encoder_stage4(short_range3) + short_range3\n",
    "        long_range4 = F.dropout(long_range4, self.dorp_rate, self.training)\n",
    "\n",
    "        short_range4 = self.down_conv4(long_range4)\n",
    "\n",
    "        outputs = self.decoder_stage1(long_range4) + short_range4\n",
    "        outputs = F.dropout(outputs, self.dorp_rate, self.training)\n",
    "\n",
    "        output1 = self.map1(outputs)\n",
    "\n",
    "        short_range6 = self.up_conv2(outputs)\n",
    "\n",
    "        outputs = self.decoder_stage2(torch.cat([short_range6, long_range3], dim=1)) + short_range6\n",
    "        outputs = F.dropout(outputs, self.dorp_rate, self.training)\n",
    "\n",
    "        output2 = self.map2(outputs)\n",
    "\n",
    "        short_range7 = self.up_conv3(outputs)\n",
    "\n",
    "        outputs = self.decoder_stage3(torch.cat([short_range7, long_range2], dim=1)) + short_range7\n",
    "        outputs = F.dropout(outputs, self.dorp_rate, self.training)\n",
    "\n",
    "        output3 = self.map3(outputs)\n",
    "\n",
    "        short_range8 = self.up_conv4(outputs)\n",
    "\n",
    "        outputs = self.decoder_stage4(torch.cat([short_range8, long_range1], dim=1)) + short_range8\n",
    "\n",
    "        output4 = self.map4(outputs)\n",
    "\n",
    "        if self.training is True:\n",
    "            return output1, output2, output3, output4\n",
    "        else:\n",
    "            return output4\n"
   ]
  },
  {
   "cell_type": "code",
   "execution_count": 53,
   "id": "9cf168e1-9277-4e6c-ac6f-4343e5835e19",
   "metadata": {
    "tags": []
   },
   "outputs": [],
   "source": [
    "def to_one_hot_3d(tensor, n_classes=3):  # shape = [batch, s, h, w]\n",
    "    n, s, h, w = tensor.size()\n",
    "    one_hot = torch.zeros(n, n_classes, s, h, w).scatter_(1, tensor.view(n, 1, s, h, w), 1)\n",
    "    return one_hot\n",
    "\n",
    "\n",
    "def adjust_learning_rate(optimizer, epoch, lr):\n",
    "    \"\"\"Sets the learning rate to the initial LR decayed by 10 every 10 epochs\"\"\"\n",
    "    lr = lr * (0.1 ** (epoch // 20))\n",
    "    for param_group in optimizer.param_groups:\n",
    "        param_group['lr'] = lr\n",
    "        \n",
    "class LossAverage(object):\n",
    "    \"\"\"Computes and stores the average and current value for calculate average loss\"\"\"\n",
    "    def __init__(self):\n",
    "        self.reset()\n",
    "\n",
    "    def reset(self):\n",
    "        self.val = 0\n",
    "        self.avg = 0\n",
    "        self.sum = 0\n",
    "        self.count = 0\n",
    "\n",
    "    def update(self, val, n=1):\n",
    "        self.val = val\n",
    "        self.sum += val * n\n",
    "        self.count += n\n",
    "        self.avg = round(self.sum / self.count, 4)\n",
    "        # print(self.val)\n",
    "\n",
    "class DiceAverage(object):\n",
    "    \"\"\"Computes and stores the average and current value for calculate average loss\"\"\"\n",
    "    def __init__(self,class_num):\n",
    "        self.class_num = class_num\n",
    "        self.reset()\n",
    "\n",
    "    def reset(self):\n",
    "        self.value = np.asarray([0]*self.class_num, dtype='float64')\n",
    "        self.avg = np.asarray([0]*self.class_num, dtype='float64')\n",
    "        self.sum = np.asarray([0]*self.class_num, dtype='float64')\n",
    "        self.count = 0\n",
    "\n",
    "    def update(self, logits, targets):\n",
    "        self.value = DiceAverage.get_dices(logits, targets)\n",
    "        self.sum += self.value\n",
    "        self.count += 1\n",
    "        self.avg = np.around(self.sum / self.count, 4)\n",
    "        # print(self.value)\n",
    "\n",
    "    @staticmethod\n",
    "    def get_dices(logits, targets):\n",
    "        dices = []\n",
    "        for class_index in range(targets.size()[1]):\n",
    "            inter = torch.sum(logits[:, class_index, :, :, :] * targets[:, class_index, :, :, :])\n",
    "            union = torch.sum(logits[:, class_index, :, :, :]) + torch.sum(targets[:, class_index, :, :, :])\n",
    "            dice = (2. * inter + 1) / (union + 1)\n",
    "            dices.append(dice.item())\n",
    "        return np.asarray(dices)\n"
   ]
  },
  {
   "cell_type": "markdown",
   "id": "6d89bdfc-6750-454d-ab25-b0c7aaf24d9a",
   "metadata": {},
   "source": [
    "### Training Loop"
   ]
  },
  {
   "cell_type": "code",
   "execution_count": 54,
   "id": "305c01c9-b957-45b1-b62d-613bc21bf2ea",
   "metadata": {
    "tags": []
   },
   "outputs": [],
   "source": [
    "def train(model, train_loader, optimizer, loss_func, n_labels, alpha):\n",
    "    print(\"=======Epoch:{}=======lr:{}\".format(epoch,optimizer.state_dict()['param_groups'][0]['lr']))\n",
    "    model.train()\n",
    "    train_loss = LossAverage()\n",
    "    train_dice = DiceAverage(n_labels)\n",
    "\n",
    "    for idx, (data, target) in tqdm(enumerate(train_loader),total=len(train_loader)):\n",
    "        data, target = data.float(), target.long()\n",
    "        target = to_one_hot_3d(target,n_labels)\n",
    "        data, target = data.to(\"cuda\"), target.to(\"cuda\")\n",
    "        optimizer.zero_grad()\n",
    "\n",
    "        output = model(data)\n",
    "        loss0 = loss_func(output[0], target)\n",
    "        loss1 = loss_func(output[1], target)\n",
    "        loss2 = loss_func(output[2], target)\n",
    "        loss3 = loss_func(output[3], target)\n",
    "\n",
    "        loss = loss3  +  alpha * (loss0 + loss1 + loss2)\n",
    "        loss.backward()\n",
    "        optimizer.step()\n",
    "        \n",
    "        train_loss.update(loss3.item(),data.size(0))\n",
    "        train_dice.update(output[3], target)\n",
    "\n",
    "    val_log = OrderedDict({'Train_Loss': train_loss.avg, 'Train_dice_liver': train_dice.avg[1]})\n",
    "    if n_labels==3: val_log.update({'Train_dice_tumor': train_dice.avg[2]})\n",
    "    return val_log"
   ]
  },
  {
   "cell_type": "code",
   "execution_count": 55,
   "id": "0540df7a-aa89-4a35-9cf6-00921714330e",
   "metadata": {
    "tags": []
   },
   "outputs": [],
   "source": [
    "### Validition Loop"
   ]
  },
  {
   "cell_type": "code",
   "execution_count": 60,
   "id": "abc87085-44d5-48b2-99e9-6b32a1414c2c",
   "metadata": {
    "tags": []
   },
   "outputs": [],
   "source": [
    "def val(model, val_loader, loss_func, n_labels):\n",
    "    model.eval()\n",
    "    val_loss = LossAverage()\n",
    "    val_dice = DiceAverage(n_labels)\n",
    "    with torch.no_grad():\n",
    "        for idx,(data, target) in tqdm(enumerate(val_loader),total=len(val_loader)):\n",
    "            data, target = data.float(), target.long()\n",
    "            target = to_one_hot_3d(target, n_labels)\n",
    "            data, target = data.to(\"cuda\"), target.to(\"cuda\")\n",
    "            output = model(data)\n",
    "            loss=loss_func(output, target)\n",
    "            \n",
    "            val_loss.update(loss.item(),data.size(0))\n",
    "            val_dice.update(output, target)\n",
    "    val_log = OrderedDict({'Val_Loss': val_loss.avg, 'Val_dice_liver': val_dice.avg[1]})\n",
    "    if n_labels==3: val_log.update({'Val_dice_tumor': val_dice.avg[2]})\n",
    "    return val_log\n"
   ]
  },
  {
   "cell_type": "code",
   "execution_count": 57,
   "id": "b64ca053-151d-4b3c-ae3b-801ea91f777e",
   "metadata": {
    "tags": []
   },
   "outputs": [],
   "source": [
    "class TverskyLoss(nn.Module):\n",
    "    \n",
    "    def __init__(self):\n",
    "        super().__init__()\n",
    "\n",
    "    def forward(self, pred, target):\n",
    "\n",
    "        smooth = 1\n",
    "\n",
    "        dice = 0.\n",
    "\n",
    "        for i in range(pred.size(1)):\n",
    "            dice += (pred[:,i] * target[:,i]).sum(dim=1).sum(dim=1).sum(dim=1) / ((pred[:,i] * target[:,i]).sum(dim=1).sum(dim=1).sum(dim=1)+\n",
    "                        0.3 * (pred[:,i] * (1 - target[:,i])).sum(dim=1).sum(dim=1).sum(dim=1) + 0.7 * ((1 - pred[:,i]) * target[:,i]).sum(dim=1).sum(dim=1).sum(dim=1) + smooth)\n",
    "\n",
    "        dice = dice / pred.size(1)\n",
    "        return torch.clamp((1 - dice).mean(), 0, 2)"
   ]
  },
  {
   "cell_type": "code",
   "execution_count": 72,
   "id": "cec69120-caf9-40d7-9359-28d60c36fa4a",
   "metadata": {
    "tags": []
   },
   "outputs": [],
   "source": [
    "!ls /bigwork/nhwpajjy/competition/cryoet/resnet_output"
   ]
  },
  {
   "cell_type": "code",
   "execution_count": 73,
   "id": "a3eefcbf-3241-4425-9f98-a0407df2941a",
   "metadata": {
    "tags": []
   },
   "outputs": [
    {
     "name": "stdout",
     "output_type": "stream",
     "text": [
      "=======Epoch:1=======lr:0.0001\n"
     ]
    },
    {
     "name": "stderr",
     "output_type": "stream",
     "text": [
      "100%|██████████| 3/3 [00:01<00:00,  2.17it/s]\n",
      "100%|██████████| 3/3 [00:00<00:00,  7.37it/s]\n"
     ]
    },
    {
     "name": "stdout",
     "output_type": "stream",
     "text": [
      "Saving best model\n",
      "Best performance at Epoch: 1 | 0.1562\n",
      "=======Epoch:2=======lr:0.0001\n"
     ]
    },
    {
     "name": "stderr",
     "output_type": "stream",
     "text": [
      "100%|██████████| 3/3 [00:01<00:00,  2.10it/s]\n",
      "100%|██████████| 3/3 [00:00<00:00,  6.99it/s]\n"
     ]
    },
    {
     "name": "stdout",
     "output_type": "stream",
     "text": [
      "Saving best model\n",
      "Best performance at Epoch: 2 | 0.1832\n",
      "=======Epoch:3=======lr:0.0001\n"
     ]
    },
    {
     "name": "stderr",
     "output_type": "stream",
     "text": [
      "100%|██████████| 3/3 [00:01<00:00,  1.98it/s]\n",
      "100%|██████████| 3/3 [00:00<00:00,  7.23it/s]\n"
     ]
    },
    {
     "name": "stdout",
     "output_type": "stream",
     "text": [
      "Saving best model\n",
      "Best performance at Epoch: 3 | 0.2294\n",
      "=======Epoch:4=======lr:0.0001\n"
     ]
    },
    {
     "name": "stderr",
     "output_type": "stream",
     "text": [
      "100%|██████████| 3/3 [00:01<00:00,  2.13it/s]\n",
      "100%|██████████| 3/3 [00:00<00:00,  6.49it/s]\n"
     ]
    },
    {
     "name": "stdout",
     "output_type": "stream",
     "text": [
      "Saving best model\n",
      "Best performance at Epoch: 4 | 0.3682\n",
      "=======Epoch:5=======lr:0.0001\n"
     ]
    },
    {
     "name": "stderr",
     "output_type": "stream",
     "text": [
      "100%|██████████| 3/3 [00:01<00:00,  2.00it/s]\n",
      "100%|██████████| 3/3 [00:00<00:00,  6.51it/s]\n"
     ]
    },
    {
     "name": "stdout",
     "output_type": "stream",
     "text": [
      "Saving best model\n",
      "Best performance at Epoch: 5 | 0.5783\n",
      "=======Epoch:6=======lr:0.0001\n"
     ]
    },
    {
     "name": "stderr",
     "output_type": "stream",
     "text": [
      "100%|██████████| 3/3 [00:01<00:00,  2.10it/s]\n",
      "100%|██████████| 3/3 [00:00<00:00,  7.18it/s]\n"
     ]
    },
    {
     "name": "stdout",
     "output_type": "stream",
     "text": [
      "Best performance at Epoch: 5 | 0.5783\n",
      "=======Epoch:7=======lr:0.0001\n"
     ]
    },
    {
     "name": "stderr",
     "output_type": "stream",
     "text": [
      "100%|██████████| 3/3 [00:01<00:00,  1.98it/s]\n",
      "100%|██████████| 3/3 [00:00<00:00,  6.72it/s]\n"
     ]
    },
    {
     "name": "stdout",
     "output_type": "stream",
     "text": [
      "Best performance at Epoch: 5 | 0.5783\n",
      "=======Epoch:8=======lr:0.0001\n"
     ]
    },
    {
     "name": "stderr",
     "output_type": "stream",
     "text": [
      "100%|██████████| 3/3 [00:01<00:00,  2.11it/s]\n",
      "100%|██████████| 3/3 [00:00<00:00,  7.40it/s]\n"
     ]
    },
    {
     "name": "stdout",
     "output_type": "stream",
     "text": [
      "Best performance at Epoch: 5 | 0.5783\n",
      "=======Epoch:9=======lr:0.0001\n"
     ]
    },
    {
     "name": "stderr",
     "output_type": "stream",
     "text": [
      "100%|██████████| 3/3 [00:01<00:00,  2.16it/s]\n",
      "100%|██████████| 3/3 [00:00<00:00,  7.69it/s]\n"
     ]
    },
    {
     "name": "stdout",
     "output_type": "stream",
     "text": [
      "Best performance at Epoch: 5 | 0.5783\n",
      "=======Epoch:10=======lr:0.0001\n"
     ]
    },
    {
     "name": "stderr",
     "output_type": "stream",
     "text": [
      "100%|██████████| 3/3 [00:01<00:00,  2.09it/s]\n",
      "100%|██████████| 3/3 [00:00<00:00,  7.59it/s]\n"
     ]
    },
    {
     "name": "stdout",
     "output_type": "stream",
     "text": [
      "Best performance at Epoch: 5 | 0.5783\n",
      "=======Epoch:11=======lr:0.0001\n"
     ]
    },
    {
     "name": "stderr",
     "output_type": "stream",
     "text": [
      "100%|██████████| 3/3 [00:01<00:00,  2.03it/s]\n",
      "100%|██████████| 3/3 [00:00<00:00,  5.97it/s]\n"
     ]
    },
    {
     "name": "stdout",
     "output_type": "stream",
     "text": [
      "Best performance at Epoch: 5 | 0.5783\n",
      "=======Epoch:12=======lr:0.0001\n"
     ]
    },
    {
     "name": "stderr",
     "output_type": "stream",
     "text": [
      "100%|██████████| 3/3 [00:01<00:00,  2.11it/s]\n",
      "100%|██████████| 3/3 [00:00<00:00,  7.66it/s]\n"
     ]
    },
    {
     "name": "stdout",
     "output_type": "stream",
     "text": [
      "Best performance at Epoch: 5 | 0.5783\n",
      "=======Epoch:13=======lr:0.0001\n"
     ]
    },
    {
     "name": "stderr",
     "output_type": "stream",
     "text": [
      "100%|██████████| 3/3 [00:01<00:00,  2.13it/s]\n",
      "100%|██████████| 3/3 [00:00<00:00,  7.63it/s]\n"
     ]
    },
    {
     "name": "stdout",
     "output_type": "stream",
     "text": [
      "Best performance at Epoch: 5 | 0.5783\n",
      "=======Epoch:14=======lr:0.0001\n"
     ]
    },
    {
     "name": "stderr",
     "output_type": "stream",
     "text": [
      "100%|██████████| 3/3 [00:01<00:00,  2.09it/s]\n",
      "100%|██████████| 3/3 [00:00<00:00,  7.16it/s]\n"
     ]
    },
    {
     "name": "stdout",
     "output_type": "stream",
     "text": [
      "Best performance at Epoch: 5 | 0.5783\n",
      "=======Epoch:15=======lr:0.0001\n"
     ]
    },
    {
     "name": "stderr",
     "output_type": "stream",
     "text": [
      "100%|██████████| 3/3 [00:01<00:00,  2.16it/s]\n",
      "100%|██████████| 3/3 [00:00<00:00,  6.72it/s]\n"
     ]
    },
    {
     "name": "stdout",
     "output_type": "stream",
     "text": [
      "Best performance at Epoch: 5 | 0.5783\n",
      "=======Epoch:16=======lr:0.0001\n"
     ]
    },
    {
     "name": "stderr",
     "output_type": "stream",
     "text": [
      "100%|██████████| 3/3 [00:01<00:00,  1.94it/s]\n",
      "100%|██████████| 3/3 [00:00<00:00,  7.11it/s]\n"
     ]
    },
    {
     "name": "stdout",
     "output_type": "stream",
     "text": [
      "Best performance at Epoch: 5 | 0.5783\n",
      "=======Epoch:17=======lr:0.0001\n"
     ]
    },
    {
     "name": "stderr",
     "output_type": "stream",
     "text": [
      "100%|██████████| 3/3 [00:01<00:00,  2.07it/s]\n",
      "100%|██████████| 3/3 [00:00<00:00,  7.10it/s]\n"
     ]
    },
    {
     "name": "stdout",
     "output_type": "stream",
     "text": [
      "Best performance at Epoch: 5 | 0.5783\n",
      "=======Epoch:18=======lr:0.0001\n"
     ]
    },
    {
     "name": "stderr",
     "output_type": "stream",
     "text": [
      "100%|██████████| 3/3 [00:01<00:00,  2.04it/s]\n",
      "100%|██████████| 3/3 [00:00<00:00,  6.67it/s]\n"
     ]
    },
    {
     "name": "stdout",
     "output_type": "stream",
     "text": [
      "Best performance at Epoch: 5 | 0.5783\n",
      "=======Epoch:19=======lr:0.0001\n"
     ]
    },
    {
     "name": "stderr",
     "output_type": "stream",
     "text": [
      "100%|██████████| 3/3 [00:01<00:00,  2.07it/s]\n",
      "100%|██████████| 3/3 [00:00<00:00,  7.59it/s]\n"
     ]
    },
    {
     "name": "stdout",
     "output_type": "stream",
     "text": [
      "Best performance at Epoch: 5 | 0.5783\n",
      "=======Epoch:20=======lr:1e-05\n"
     ]
    },
    {
     "name": "stderr",
     "output_type": "stream",
     "text": [
      "100%|██████████| 3/3 [00:01<00:00,  2.06it/s]\n",
      "100%|██████████| 3/3 [00:00<00:00,  6.90it/s]\n"
     ]
    },
    {
     "name": "stdout",
     "output_type": "stream",
     "text": [
      "Best performance at Epoch: 5 | 0.5783\n",
      "=======Epoch:21=======lr:1e-05\n"
     ]
    },
    {
     "name": "stderr",
     "output_type": "stream",
     "text": [
      "100%|██████████| 3/3 [00:01<00:00,  2.09it/s]\n",
      "100%|██████████| 3/3 [00:00<00:00,  6.74it/s]\n"
     ]
    },
    {
     "name": "stdout",
     "output_type": "stream",
     "text": [
      "Best performance at Epoch: 5 | 0.5783\n",
      "=======Epoch:22=======lr:1e-05\n"
     ]
    },
    {
     "name": "stderr",
     "output_type": "stream",
     "text": [
      "100%|██████████| 3/3 [00:01<00:00,  2.02it/s]\n",
      "100%|██████████| 3/3 [00:00<00:00,  6.48it/s]\n"
     ]
    },
    {
     "name": "stdout",
     "output_type": "stream",
     "text": [
      "Best performance at Epoch: 5 | 0.5783\n",
      "=======Epoch:23=======lr:1e-05\n"
     ]
    },
    {
     "name": "stderr",
     "output_type": "stream",
     "text": [
      "100%|██████████| 3/3 [00:01<00:00,  2.20it/s]\n",
      "100%|██████████| 3/3 [00:00<00:00,  7.38it/s]\n"
     ]
    },
    {
     "name": "stdout",
     "output_type": "stream",
     "text": [
      "Best performance at Epoch: 5 | 0.5783\n",
      "=======Epoch:24=======lr:1e-05\n"
     ]
    },
    {
     "name": "stderr",
     "output_type": "stream",
     "text": [
      "100%|██████████| 3/3 [00:01<00:00,  2.15it/s]\n",
      "100%|██████████| 3/3 [00:00<00:00,  7.32it/s]\n"
     ]
    },
    {
     "name": "stdout",
     "output_type": "stream",
     "text": [
      "Best performance at Epoch: 5 | 0.5783\n",
      "=======Epoch:25=======lr:1e-05\n"
     ]
    },
    {
     "name": "stderr",
     "output_type": "stream",
     "text": [
      "100%|██████████| 3/3 [00:01<00:00,  2.13it/s]\n",
      "100%|██████████| 3/3 [00:00<00:00,  6.07it/s]\n"
     ]
    },
    {
     "name": "stdout",
     "output_type": "stream",
     "text": [
      "Best performance at Epoch: 5 | 0.5783\n",
      "=======Epoch:26=======lr:1e-05\n"
     ]
    },
    {
     "name": "stderr",
     "output_type": "stream",
     "text": [
      "100%|██████████| 3/3 [00:01<00:00,  2.24it/s]\n",
      "100%|██████████| 3/3 [00:00<00:00,  5.74it/s]\n"
     ]
    },
    {
     "name": "stdout",
     "output_type": "stream",
     "text": [
      "Best performance at Epoch: 5 | 0.5783\n",
      "=======Epoch:27=======lr:1e-05\n"
     ]
    },
    {
     "name": "stderr",
     "output_type": "stream",
     "text": [
      "100%|██████████| 3/3 [00:01<00:00,  2.11it/s]\n",
      "100%|██████████| 3/3 [00:00<00:00,  6.53it/s]\n"
     ]
    },
    {
     "name": "stdout",
     "output_type": "stream",
     "text": [
      "Best performance at Epoch: 5 | 0.5783\n",
      "=======Epoch:28=======lr:1e-05\n"
     ]
    },
    {
     "name": "stderr",
     "output_type": "stream",
     "text": [
      "100%|██████████| 3/3 [00:01<00:00,  2.15it/s]\n",
      "100%|██████████| 3/3 [00:00<00:00,  7.16it/s]\n"
     ]
    },
    {
     "name": "stdout",
     "output_type": "stream",
     "text": [
      "Best performance at Epoch: 5 | 0.5783\n",
      "=======Epoch:29=======lr:1e-05\n"
     ]
    },
    {
     "name": "stderr",
     "output_type": "stream",
     "text": [
      "100%|██████████| 3/3 [00:01<00:00,  2.19it/s]\n",
      "100%|██████████| 3/3 [00:00<00:00,  7.18it/s]\n"
     ]
    },
    {
     "name": "stdout",
     "output_type": "stream",
     "text": [
      "Best performance at Epoch: 5 | 0.5783\n",
      "=======Epoch:30=======lr:1e-05\n"
     ]
    },
    {
     "name": "stderr",
     "output_type": "stream",
     "text": [
      "100%|██████████| 3/3 [00:01<00:00,  2.16it/s]\n",
      "100%|██████████| 3/3 [00:00<00:00,  6.71it/s]\n"
     ]
    },
    {
     "name": "stdout",
     "output_type": "stream",
     "text": [
      "Best performance at Epoch: 5 | 0.5783\n",
      "=======Epoch:31=======lr:1e-05\n"
     ]
    },
    {
     "name": "stderr",
     "output_type": "stream",
     "text": [
      "100%|██████████| 3/3 [00:01<00:00,  2.16it/s]\n",
      "100%|██████████| 3/3 [00:00<00:00,  6.93it/s]\n"
     ]
    },
    {
     "name": "stdout",
     "output_type": "stream",
     "text": [
      "Best performance at Epoch: 5 | 0.5783\n",
      "=======Epoch:32=======lr:1e-05\n"
     ]
    },
    {
     "name": "stderr",
     "output_type": "stream",
     "text": [
      "100%|██████████| 3/3 [00:01<00:00,  2.09it/s]\n",
      "100%|██████████| 3/3 [00:00<00:00,  6.67it/s]\n"
     ]
    },
    {
     "name": "stdout",
     "output_type": "stream",
     "text": [
      "Best performance at Epoch: 5 | 0.5783\n",
      "=======Epoch:33=======lr:1e-05\n"
     ]
    },
    {
     "name": "stderr",
     "output_type": "stream",
     "text": [
      "100%|██████████| 3/3 [00:01<00:00,  2.03it/s]\n",
      "100%|██████████| 3/3 [00:00<00:00,  7.23it/s]\n"
     ]
    },
    {
     "name": "stdout",
     "output_type": "stream",
     "text": [
      "Best performance at Epoch: 5 | 0.5783\n",
      "=======Epoch:34=======lr:1e-05\n"
     ]
    },
    {
     "name": "stderr",
     "output_type": "stream",
     "text": [
      "100%|██████████| 3/3 [00:01<00:00,  2.06it/s]\n",
      "100%|██████████| 3/3 [00:00<00:00,  7.53it/s]\n"
     ]
    },
    {
     "name": "stdout",
     "output_type": "stream",
     "text": [
      "Best performance at Epoch: 5 | 0.5783\n",
      "=======Epoch:35=======lr:1e-05\n"
     ]
    },
    {
     "name": "stderr",
     "output_type": "stream",
     "text": [
      "100%|██████████| 3/3 [00:01<00:00,  2.03it/s]\n",
      "100%|██████████| 3/3 [00:00<00:00,  5.55it/s]\n"
     ]
    },
    {
     "name": "stdout",
     "output_type": "stream",
     "text": [
      "Best performance at Epoch: 5 | 0.5783\n",
      "=======Epoch:36=======lr:1e-05\n"
     ]
    },
    {
     "name": "stderr",
     "output_type": "stream",
     "text": [
      "100%|██████████| 3/3 [00:01<00:00,  2.14it/s]\n",
      "100%|██████████| 3/3 [00:00<00:00,  6.85it/s]\n"
     ]
    },
    {
     "name": "stdout",
     "output_type": "stream",
     "text": [
      "Best performance at Epoch: 5 | 0.5783\n",
      "=======Epoch:37=======lr:1e-05\n"
     ]
    },
    {
     "name": "stderr",
     "output_type": "stream",
     "text": [
      "100%|██████████| 3/3 [00:01<00:00,  2.01it/s]\n",
      "100%|██████████| 3/3 [00:00<00:00,  7.01it/s]\n"
     ]
    },
    {
     "name": "stdout",
     "output_type": "stream",
     "text": [
      "Best performance at Epoch: 5 | 0.5783\n",
      "=======Epoch:38=======lr:1e-05\n"
     ]
    },
    {
     "name": "stderr",
     "output_type": "stream",
     "text": [
      "100%|██████████| 3/3 [00:01<00:00,  2.14it/s]\n",
      "100%|██████████| 3/3 [00:00<00:00,  7.60it/s]\n"
     ]
    },
    {
     "name": "stdout",
     "output_type": "stream",
     "text": [
      "Best performance at Epoch: 5 | 0.5783\n",
      "=======Epoch:39=======lr:1e-05\n"
     ]
    },
    {
     "name": "stderr",
     "output_type": "stream",
     "text": [
      "100%|██████████| 3/3 [00:01<00:00,  2.03it/s]\n",
      "100%|██████████| 3/3 [00:00<00:00,  6.85it/s]\n"
     ]
    },
    {
     "name": "stdout",
     "output_type": "stream",
     "text": [
      "Best performance at Epoch: 5 | 0.5783\n",
      "=======Epoch:40=======lr:1.0000000000000002e-06\n"
     ]
    },
    {
     "name": "stderr",
     "output_type": "stream",
     "text": [
      "100%|██████████| 3/3 [00:01<00:00,  2.13it/s]\n",
      "100%|██████████| 3/3 [00:00<00:00,  7.81it/s]\n"
     ]
    },
    {
     "name": "stdout",
     "output_type": "stream",
     "text": [
      "Best performance at Epoch: 5 | 0.5783\n",
      "=======Epoch:41=======lr:1.0000000000000002e-06\n"
     ]
    },
    {
     "name": "stderr",
     "output_type": "stream",
     "text": [
      "100%|██████████| 3/3 [00:01<00:00,  2.02it/s]\n",
      "100%|██████████| 3/3 [00:00<00:00,  6.17it/s]\n"
     ]
    },
    {
     "name": "stdout",
     "output_type": "stream",
     "text": [
      "Best performance at Epoch: 5 | 0.5783\n",
      "=======Epoch:42=======lr:1.0000000000000002e-06\n"
     ]
    },
    {
     "name": "stderr",
     "output_type": "stream",
     "text": [
      "100%|██████████| 3/3 [00:01<00:00,  2.09it/s]\n",
      "100%|██████████| 3/3 [00:00<00:00,  5.87it/s]\n"
     ]
    },
    {
     "name": "stdout",
     "output_type": "stream",
     "text": [
      "Best performance at Epoch: 5 | 0.5783\n",
      "=======Epoch:43=======lr:1.0000000000000002e-06\n"
     ]
    },
    {
     "name": "stderr",
     "output_type": "stream",
     "text": [
      "100%|██████████| 3/3 [00:01<00:00,  2.11it/s]\n",
      "100%|██████████| 3/3 [00:00<00:00,  7.05it/s]\n"
     ]
    },
    {
     "name": "stdout",
     "output_type": "stream",
     "text": [
      "Best performance at Epoch: 5 | 0.5783\n",
      "=======Epoch:44=======lr:1.0000000000000002e-06\n"
     ]
    },
    {
     "name": "stderr",
     "output_type": "stream",
     "text": [
      "100%|██████████| 3/3 [00:01<00:00,  2.08it/s]\n",
      "100%|██████████| 3/3 [00:00<00:00,  6.93it/s]\n"
     ]
    },
    {
     "name": "stdout",
     "output_type": "stream",
     "text": [
      "Best performance at Epoch: 5 | 0.5783\n",
      "=======Epoch:45=======lr:1.0000000000000002e-06\n"
     ]
    },
    {
     "name": "stderr",
     "output_type": "stream",
     "text": [
      "100%|██████████| 3/3 [00:01<00:00,  2.18it/s]\n",
      "100%|██████████| 3/3 [00:00<00:00,  7.32it/s]\n"
     ]
    },
    {
     "name": "stdout",
     "output_type": "stream",
     "text": [
      "Best performance at Epoch: 5 | 0.5783\n",
      "=======Epoch:46=======lr:1.0000000000000002e-06\n"
     ]
    },
    {
     "name": "stderr",
     "output_type": "stream",
     "text": [
      "100%|██████████| 3/3 [00:01<00:00,  2.03it/s]\n",
      "100%|██████████| 3/3 [00:00<00:00,  7.84it/s]\n"
     ]
    },
    {
     "name": "stdout",
     "output_type": "stream",
     "text": [
      "Best performance at Epoch: 5 | 0.5783\n",
      "=======Epoch:47=======lr:1.0000000000000002e-06\n"
     ]
    },
    {
     "name": "stderr",
     "output_type": "stream",
     "text": [
      "100%|██████████| 3/3 [00:01<00:00,  2.11it/s]\n",
      "100%|██████████| 3/3 [00:00<00:00,  6.72it/s]\n"
     ]
    },
    {
     "name": "stdout",
     "output_type": "stream",
     "text": [
      "Best performance at Epoch: 5 | 0.5783\n",
      "=======Epoch:48=======lr:1.0000000000000002e-06\n"
     ]
    },
    {
     "name": "stderr",
     "output_type": "stream",
     "text": [
      "100%|██████████| 3/3 [00:01<00:00,  2.06it/s]\n",
      "100%|██████████| 3/3 [00:00<00:00,  7.51it/s]\n"
     ]
    },
    {
     "name": "stdout",
     "output_type": "stream",
     "text": [
      "Best performance at Epoch: 5 | 0.5783\n",
      "=======Epoch:49=======lr:1.0000000000000002e-06\n"
     ]
    },
    {
     "name": "stderr",
     "output_type": "stream",
     "text": [
      "100%|██████████| 3/3 [00:01<00:00,  2.08it/s]\n",
      "100%|██████████| 3/3 [00:00<00:00,  6.03it/s]\n"
     ]
    },
    {
     "name": "stdout",
     "output_type": "stream",
     "text": [
      "Best performance at Epoch: 5 | 0.5783\n",
      "=======Epoch:50=======lr:1.0000000000000002e-06\n"
     ]
    },
    {
     "name": "stderr",
     "output_type": "stream",
     "text": [
      "100%|██████████| 3/3 [00:01<00:00,  2.12it/s]\n",
      "100%|██████████| 3/3 [00:00<00:00,  6.80it/s]\n"
     ]
    },
    {
     "name": "stdout",
     "output_type": "stream",
     "text": [
      "Best performance at Epoch: 5 | 0.5783\n",
      "=======Epoch:51=======lr:1.0000000000000002e-06\n"
     ]
    },
    {
     "name": "stderr",
     "output_type": "stream",
     "text": [
      "100%|██████████| 3/3 [00:01<00:00,  2.14it/s]\n",
      "100%|██████████| 3/3 [00:00<00:00,  7.00it/s]\n"
     ]
    },
    {
     "name": "stdout",
     "output_type": "stream",
     "text": [
      "Best performance at Epoch: 5 | 0.5783\n",
      "=======Epoch:52=======lr:1.0000000000000002e-06\n"
     ]
    },
    {
     "name": "stderr",
     "output_type": "stream",
     "text": [
      "100%|██████████| 3/3 [00:01<00:00,  2.14it/s]\n",
      "100%|██████████| 3/3 [00:00<00:00,  7.57it/s]\n"
     ]
    },
    {
     "name": "stdout",
     "output_type": "stream",
     "text": [
      "Best performance at Epoch: 5 | 0.5783\n",
      "=======Epoch:53=======lr:1.0000000000000002e-06\n"
     ]
    },
    {
     "name": "stderr",
     "output_type": "stream",
     "text": [
      "100%|██████████| 3/3 [00:01<00:00,  2.21it/s]\n",
      "100%|██████████| 3/3 [00:00<00:00,  6.51it/s]\n"
     ]
    },
    {
     "name": "stdout",
     "output_type": "stream",
     "text": [
      "Best performance at Epoch: 5 | 0.5783\n",
      "=======Epoch:54=======lr:1.0000000000000002e-06\n"
     ]
    },
    {
     "name": "stderr",
     "output_type": "stream",
     "text": [
      "100%|██████████| 3/3 [00:01<00:00,  2.16it/s]\n",
      "100%|██████████| 3/3 [00:00<00:00,  6.33it/s]\n"
     ]
    },
    {
     "name": "stdout",
     "output_type": "stream",
     "text": [
      "Best performance at Epoch: 5 | 0.5783\n",
      "=======Epoch:55=======lr:1.0000000000000002e-06\n"
     ]
    },
    {
     "name": "stderr",
     "output_type": "stream",
     "text": [
      "100%|██████████| 3/3 [00:01<00:00,  2.12it/s]\n",
      "100%|██████████| 3/3 [00:00<00:00,  7.57it/s]\n"
     ]
    },
    {
     "name": "stdout",
     "output_type": "stream",
     "text": [
      "Best performance at Epoch: 5 | 0.5783\n",
      "=======Epoch:56=======lr:1.0000000000000002e-06\n"
     ]
    },
    {
     "name": "stderr",
     "output_type": "stream",
     "text": [
      "100%|██████████| 3/3 [00:01<00:00,  2.17it/s]\n",
      "100%|██████████| 3/3 [00:00<00:00,  6.66it/s]\n"
     ]
    },
    {
     "name": "stdout",
     "output_type": "stream",
     "text": [
      "Best performance at Epoch: 5 | 0.5783\n",
      "=======Epoch:57=======lr:1.0000000000000002e-06\n"
     ]
    },
    {
     "name": "stderr",
     "output_type": "stream",
     "text": [
      "100%|██████████| 3/3 [00:01<00:00,  1.99it/s]\n",
      "100%|██████████| 3/3 [00:00<00:00,  6.17it/s]\n"
     ]
    },
    {
     "name": "stdout",
     "output_type": "stream",
     "text": [
      "Best performance at Epoch: 5 | 0.5783\n",
      "=======Epoch:58=======lr:1.0000000000000002e-06\n"
     ]
    },
    {
     "name": "stderr",
     "output_type": "stream",
     "text": [
      "100%|██████████| 3/3 [00:01<00:00,  2.00it/s]\n",
      "100%|██████████| 3/3 [00:00<00:00,  8.21it/s]\n"
     ]
    },
    {
     "name": "stdout",
     "output_type": "stream",
     "text": [
      "Best performance at Epoch: 5 | 0.5783\n",
      "=======Epoch:59=======lr:1.0000000000000002e-06\n"
     ]
    },
    {
     "name": "stderr",
     "output_type": "stream",
     "text": [
      "100%|██████████| 3/3 [00:01<00:00,  2.19it/s]\n",
      "100%|██████████| 3/3 [00:00<00:00,  7.64it/s]\n"
     ]
    },
    {
     "name": "stdout",
     "output_type": "stream",
     "text": [
      "Best performance at Epoch: 5 | 0.5783\n",
      "=======Epoch:60=======lr:1.0000000000000002e-07\n"
     ]
    },
    {
     "name": "stderr",
     "output_type": "stream",
     "text": [
      "100%|██████████| 3/3 [00:01<00:00,  2.04it/s]\n",
      "100%|██████████| 3/3 [00:00<00:00,  7.06it/s]\n"
     ]
    },
    {
     "name": "stdout",
     "output_type": "stream",
     "text": [
      "Best performance at Epoch: 5 | 0.5783\n",
      "=======Epoch:61=======lr:1.0000000000000002e-07\n"
     ]
    },
    {
     "name": "stderr",
     "output_type": "stream",
     "text": [
      "100%|██████████| 3/3 [00:01<00:00,  2.15it/s]\n",
      "100%|██████████| 3/3 [00:00<00:00,  7.20it/s]\n"
     ]
    },
    {
     "name": "stdout",
     "output_type": "stream",
     "text": [
      "Best performance at Epoch: 5 | 0.5783\n",
      "=======Epoch:62=======lr:1.0000000000000002e-07\n"
     ]
    },
    {
     "name": "stderr",
     "output_type": "stream",
     "text": [
      "100%|██████████| 3/3 [00:01<00:00,  2.16it/s]\n",
      "100%|██████████| 3/3 [00:00<00:00,  6.79it/s]\n"
     ]
    },
    {
     "name": "stdout",
     "output_type": "stream",
     "text": [
      "Best performance at Epoch: 5 | 0.5783\n",
      "=======Epoch:63=======lr:1.0000000000000002e-07\n"
     ]
    },
    {
     "name": "stderr",
     "output_type": "stream",
     "text": [
      "100%|██████████| 3/3 [00:01<00:00,  2.05it/s]\n",
      "100%|██████████| 3/3 [00:00<00:00,  5.95it/s]\n"
     ]
    },
    {
     "name": "stdout",
     "output_type": "stream",
     "text": [
      "Best performance at Epoch: 5 | 0.5783\n",
      "=======Epoch:64=======lr:1.0000000000000002e-07\n"
     ]
    },
    {
     "name": "stderr",
     "output_type": "stream",
     "text": [
      "100%|██████████| 3/3 [00:01<00:00,  2.07it/s]\n",
      "100%|██████████| 3/3 [00:00<00:00,  6.89it/s]\n"
     ]
    },
    {
     "name": "stdout",
     "output_type": "stream",
     "text": [
      "Best performance at Epoch: 5 | 0.5783\n",
      "=======Epoch:65=======lr:1.0000000000000002e-07\n"
     ]
    },
    {
     "name": "stderr",
     "output_type": "stream",
     "text": [
      "100%|██████████| 3/3 [00:01<00:00,  2.07it/s]\n",
      "100%|██████████| 3/3 [00:00<00:00,  7.83it/s]\n"
     ]
    },
    {
     "name": "stdout",
     "output_type": "stream",
     "text": [
      "Best performance at Epoch: 5 | 0.5783\n",
      "=======Epoch:66=======lr:1.0000000000000002e-07\n"
     ]
    },
    {
     "name": "stderr",
     "output_type": "stream",
     "text": [
      "100%|██████████| 3/3 [00:01<00:00,  1.99it/s]\n",
      "100%|██████████| 3/3 [00:00<00:00,  7.32it/s]\n"
     ]
    },
    {
     "name": "stdout",
     "output_type": "stream",
     "text": [
      "Best performance at Epoch: 5 | 0.5783\n",
      "=======Epoch:67=======lr:1.0000000000000002e-07\n"
     ]
    },
    {
     "name": "stderr",
     "output_type": "stream",
     "text": [
      "100%|██████████| 3/3 [00:01<00:00,  2.09it/s]\n",
      "100%|██████████| 3/3 [00:00<00:00,  7.61it/s]\n"
     ]
    },
    {
     "name": "stdout",
     "output_type": "stream",
     "text": [
      "Best performance at Epoch: 5 | 0.5783\n",
      "=======Epoch:68=======lr:1.0000000000000002e-07\n"
     ]
    },
    {
     "name": "stderr",
     "output_type": "stream",
     "text": [
      "100%|██████████| 3/3 [00:01<00:00,  2.09it/s]\n",
      "100%|██████████| 3/3 [00:00<00:00,  7.46it/s]\n"
     ]
    },
    {
     "name": "stdout",
     "output_type": "stream",
     "text": [
      "Best performance at Epoch: 5 | 0.5783\n",
      "=======Epoch:69=======lr:1.0000000000000002e-07\n"
     ]
    },
    {
     "name": "stderr",
     "output_type": "stream",
     "text": [
      "100%|██████████| 3/3 [00:01<00:00,  2.22it/s]\n",
      "100%|██████████| 3/3 [00:00<00:00,  6.68it/s]\n"
     ]
    },
    {
     "name": "stdout",
     "output_type": "stream",
     "text": [
      "Best performance at Epoch: 5 | 0.5783\n",
      "=======Epoch:70=======lr:1.0000000000000002e-07\n"
     ]
    },
    {
     "name": "stderr",
     "output_type": "stream",
     "text": [
      "100%|██████████| 3/3 [00:01<00:00,  2.19it/s]\n",
      "100%|██████████| 3/3 [00:00<00:00,  6.06it/s]\n"
     ]
    },
    {
     "name": "stdout",
     "output_type": "stream",
     "text": [
      "Best performance at Epoch: 5 | 0.5783\n",
      "=======Epoch:71=======lr:1.0000000000000002e-07\n"
     ]
    },
    {
     "name": "stderr",
     "output_type": "stream",
     "text": [
      "100%|██████████| 3/3 [00:01<00:00,  2.04it/s]\n",
      "100%|██████████| 3/3 [00:00<00:00,  7.53it/s]\n"
     ]
    },
    {
     "name": "stdout",
     "output_type": "stream",
     "text": [
      "Best performance at Epoch: 5 | 0.5783\n",
      "=======Epoch:72=======lr:1.0000000000000002e-07\n"
     ]
    },
    {
     "name": "stderr",
     "output_type": "stream",
     "text": [
      "100%|██████████| 3/3 [00:01<00:00,  2.09it/s]\n",
      "100%|██████████| 3/3 [00:00<00:00,  5.19it/s]\n"
     ]
    },
    {
     "name": "stdout",
     "output_type": "stream",
     "text": [
      "Best performance at Epoch: 5 | 0.5783\n",
      "=======Epoch:73=======lr:1.0000000000000002e-07\n"
     ]
    },
    {
     "name": "stderr",
     "output_type": "stream",
     "text": [
      "100%|██████████| 3/3 [00:01<00:00,  2.20it/s]\n",
      "100%|██████████| 3/3 [00:00<00:00,  7.28it/s]\n"
     ]
    },
    {
     "name": "stdout",
     "output_type": "stream",
     "text": [
      "Best performance at Epoch: 5 | 0.5783\n",
      "=======Epoch:74=======lr:1.0000000000000002e-07\n"
     ]
    },
    {
     "name": "stderr",
     "output_type": "stream",
     "text": [
      "100%|██████████| 3/3 [00:01<00:00,  2.17it/s]\n",
      "100%|██████████| 3/3 [00:00<00:00,  7.59it/s]\n"
     ]
    },
    {
     "name": "stdout",
     "output_type": "stream",
     "text": [
      "Best performance at Epoch: 5 | 0.5783\n",
      "=======Epoch:75=======lr:1.0000000000000002e-07\n"
     ]
    },
    {
     "name": "stderr",
     "output_type": "stream",
     "text": [
      "100%|██████████| 3/3 [00:01<00:00,  2.15it/s]\n",
      "100%|██████████| 3/3 [00:00<00:00,  7.25it/s]\n"
     ]
    },
    {
     "name": "stdout",
     "output_type": "stream",
     "text": [
      "Best performance at Epoch: 5 | 0.5783\n",
      "=======Epoch:76=======lr:1.0000000000000002e-07\n"
     ]
    },
    {
     "name": "stderr",
     "output_type": "stream",
     "text": [
      "100%|██████████| 3/3 [00:01<00:00,  2.20it/s]\n",
      "100%|██████████| 3/3 [00:00<00:00,  7.21it/s]\n"
     ]
    },
    {
     "name": "stdout",
     "output_type": "stream",
     "text": [
      "Best performance at Epoch: 5 | 0.5783\n",
      "=======Epoch:77=======lr:1.0000000000000002e-07\n"
     ]
    },
    {
     "name": "stderr",
     "output_type": "stream",
     "text": [
      "100%|██████████| 3/3 [00:01<00:00,  2.08it/s]\n",
      "100%|██████████| 3/3 [00:00<00:00,  8.24it/s]\n"
     ]
    },
    {
     "name": "stdout",
     "output_type": "stream",
     "text": [
      "Best performance at Epoch: 5 | 0.5783\n",
      "=======Epoch:78=======lr:1.0000000000000002e-07\n"
     ]
    },
    {
     "name": "stderr",
     "output_type": "stream",
     "text": [
      "100%|██████████| 3/3 [00:01<00:00,  1.96it/s]\n",
      "100%|██████████| 3/3 [00:00<00:00,  7.38it/s]\n"
     ]
    },
    {
     "name": "stdout",
     "output_type": "stream",
     "text": [
      "Best performance at Epoch: 5 | 0.5783\n",
      "=======Epoch:79=======lr:1.0000000000000002e-07\n"
     ]
    },
    {
     "name": "stderr",
     "output_type": "stream",
     "text": [
      "100%|██████████| 3/3 [00:01<00:00,  2.11it/s]\n",
      "100%|██████████| 3/3 [00:00<00:00,  6.32it/s]\n"
     ]
    },
    {
     "name": "stdout",
     "output_type": "stream",
     "text": [
      "Best performance at Epoch: 5 | 0.5783\n",
      "=======Epoch:80=======lr:1.0000000000000002e-08\n"
     ]
    },
    {
     "name": "stderr",
     "output_type": "stream",
     "text": [
      "100%|██████████| 3/3 [00:01<00:00,  1.96it/s]\n",
      "100%|██████████| 3/3 [00:00<00:00,  7.40it/s]\n"
     ]
    },
    {
     "name": "stdout",
     "output_type": "stream",
     "text": [
      "Best performance at Epoch: 5 | 0.5783\n",
      "=======Epoch:81=======lr:1.0000000000000002e-08\n"
     ]
    },
    {
     "name": "stderr",
     "output_type": "stream",
     "text": [
      "100%|██████████| 3/3 [00:01<00:00,  2.14it/s]\n",
      "100%|██████████| 3/3 [00:00<00:00,  6.04it/s]\n"
     ]
    },
    {
     "name": "stdout",
     "output_type": "stream",
     "text": [
      "Best performance at Epoch: 5 | 0.5783\n",
      "=======Epoch:82=======lr:1.0000000000000002e-08\n"
     ]
    },
    {
     "name": "stderr",
     "output_type": "stream",
     "text": [
      "100%|██████████| 3/3 [00:01<00:00,  2.11it/s]\n",
      "100%|██████████| 3/3 [00:00<00:00,  6.64it/s]\n"
     ]
    },
    {
     "name": "stdout",
     "output_type": "stream",
     "text": [
      "Best performance at Epoch: 5 | 0.5783\n",
      "=======Epoch:83=======lr:1.0000000000000002e-08\n"
     ]
    },
    {
     "name": "stderr",
     "output_type": "stream",
     "text": [
      "100%|██████████| 3/3 [00:01<00:00,  2.14it/s]\n",
      "100%|██████████| 3/3 [00:00<00:00,  7.34it/s]\n"
     ]
    },
    {
     "name": "stdout",
     "output_type": "stream",
     "text": [
      "Best performance at Epoch: 5 | 0.5783\n",
      "=======Epoch:84=======lr:1.0000000000000002e-08\n"
     ]
    },
    {
     "name": "stderr",
     "output_type": "stream",
     "text": [
      "100%|██████████| 3/3 [00:01<00:00,  2.22it/s]\n",
      "100%|██████████| 3/3 [00:00<00:00,  8.02it/s]\n"
     ]
    },
    {
     "name": "stdout",
     "output_type": "stream",
     "text": [
      "Best performance at Epoch: 5 | 0.5783\n",
      "=======Epoch:85=======lr:1.0000000000000002e-08\n"
     ]
    },
    {
     "name": "stderr",
     "output_type": "stream",
     "text": [
      "100%|██████████| 3/3 [00:01<00:00,  2.12it/s]\n",
      "100%|██████████| 3/3 [00:00<00:00,  7.95it/s]\n"
     ]
    },
    {
     "name": "stdout",
     "output_type": "stream",
     "text": [
      "Best performance at Epoch: 5 | 0.5783\n",
      "=======Epoch:86=======lr:1.0000000000000002e-08\n"
     ]
    },
    {
     "name": "stderr",
     "output_type": "stream",
     "text": [
      "100%|██████████| 3/3 [00:01<00:00,  2.16it/s]\n",
      "100%|██████████| 3/3 [00:00<00:00,  6.20it/s]\n"
     ]
    },
    {
     "name": "stdout",
     "output_type": "stream",
     "text": [
      "Best performance at Epoch: 5 | 0.5783\n",
      "=======Epoch:87=======lr:1.0000000000000002e-08\n"
     ]
    },
    {
     "name": "stderr",
     "output_type": "stream",
     "text": [
      "100%|██████████| 3/3 [00:01<00:00,  2.06it/s]\n",
      "100%|██████████| 3/3 [00:00<00:00,  5.79it/s]\n"
     ]
    },
    {
     "name": "stdout",
     "output_type": "stream",
     "text": [
      "Best performance at Epoch: 5 | 0.5783\n",
      "=======Epoch:88=======lr:1.0000000000000002e-08\n"
     ]
    },
    {
     "name": "stderr",
     "output_type": "stream",
     "text": [
      "100%|██████████| 3/3 [00:01<00:00,  2.17it/s]\n",
      "100%|██████████| 3/3 [00:00<00:00,  8.03it/s]\n"
     ]
    },
    {
     "name": "stdout",
     "output_type": "stream",
     "text": [
      "Best performance at Epoch: 5 | 0.5783\n",
      "=======Epoch:89=======lr:1.0000000000000002e-08\n"
     ]
    },
    {
     "name": "stderr",
     "output_type": "stream",
     "text": [
      "100%|██████████| 3/3 [00:01<00:00,  2.04it/s]\n",
      "100%|██████████| 3/3 [00:00<00:00,  6.47it/s]\n"
     ]
    },
    {
     "name": "stdout",
     "output_type": "stream",
     "text": [
      "Best performance at Epoch: 5 | 0.5783\n",
      "=======Epoch:90=======lr:1.0000000000000002e-08\n"
     ]
    },
    {
     "name": "stderr",
     "output_type": "stream",
     "text": [
      "100%|██████████| 3/3 [00:01<00:00,  2.07it/s]\n",
      "100%|██████████| 3/3 [00:00<00:00,  7.08it/s]\n"
     ]
    },
    {
     "name": "stdout",
     "output_type": "stream",
     "text": [
      "Best performance at Epoch: 5 | 0.5783\n",
      "=======Epoch:91=======lr:1.0000000000000002e-08\n"
     ]
    },
    {
     "name": "stderr",
     "output_type": "stream",
     "text": [
      "100%|██████████| 3/3 [00:01<00:00,  2.26it/s]\n",
      "100%|██████████| 3/3 [00:00<00:00,  6.96it/s]\n"
     ]
    },
    {
     "name": "stdout",
     "output_type": "stream",
     "text": [
      "Best performance at Epoch: 5 | 0.5783\n",
      "=======Epoch:92=======lr:1.0000000000000002e-08\n"
     ]
    },
    {
     "name": "stderr",
     "output_type": "stream",
     "text": [
      "100%|██████████| 3/3 [00:01<00:00,  2.18it/s]\n",
      "100%|██████████| 3/3 [00:00<00:00,  6.32it/s]\n"
     ]
    },
    {
     "name": "stdout",
     "output_type": "stream",
     "text": [
      "Best performance at Epoch: 5 | 0.5783\n",
      "=======Epoch:93=======lr:1.0000000000000002e-08\n"
     ]
    },
    {
     "name": "stderr",
     "output_type": "stream",
     "text": [
      "100%|██████████| 3/3 [00:01<00:00,  2.01it/s]\n",
      "100%|██████████| 3/3 [00:00<00:00,  7.00it/s]\n"
     ]
    },
    {
     "name": "stdout",
     "output_type": "stream",
     "text": [
      "Best performance at Epoch: 5 | 0.5783\n",
      "=======Epoch:94=======lr:1.0000000000000002e-08\n"
     ]
    },
    {
     "name": "stderr",
     "output_type": "stream",
     "text": [
      "100%|██████████| 3/3 [00:01<00:00,  2.12it/s]\n",
      "100%|██████████| 3/3 [00:00<00:00,  6.97it/s]\n"
     ]
    },
    {
     "name": "stdout",
     "output_type": "stream",
     "text": [
      "Best performance at Epoch: 5 | 0.5783\n",
      "=======Epoch:95=======lr:1.0000000000000002e-08\n"
     ]
    },
    {
     "name": "stderr",
     "output_type": "stream",
     "text": [
      "100%|██████████| 3/3 [00:01<00:00,  2.21it/s]\n",
      "100%|██████████| 3/3 [00:00<00:00,  7.19it/s]\n"
     ]
    },
    {
     "name": "stdout",
     "output_type": "stream",
     "text": [
      "Best performance at Epoch: 5 | 0.5783\n",
      "=======Epoch:96=======lr:1.0000000000000002e-08\n"
     ]
    },
    {
     "name": "stderr",
     "output_type": "stream",
     "text": [
      "100%|██████████| 3/3 [00:01<00:00,  2.08it/s]\n",
      "100%|██████████| 3/3 [00:00<00:00,  5.88it/s]\n"
     ]
    },
    {
     "name": "stdout",
     "output_type": "stream",
     "text": [
      "Best performance at Epoch: 5 | 0.5783\n",
      "=======Epoch:97=======lr:1.0000000000000002e-08\n"
     ]
    },
    {
     "name": "stderr",
     "output_type": "stream",
     "text": [
      "100%|██████████| 3/3 [00:01<00:00,  2.16it/s]\n",
      "100%|██████████| 3/3 [00:00<00:00,  7.74it/s]\n"
     ]
    },
    {
     "name": "stdout",
     "output_type": "stream",
     "text": [
      "Best performance at Epoch: 5 | 0.5783\n",
      "=======Epoch:98=======lr:1.0000000000000002e-08\n"
     ]
    },
    {
     "name": "stderr",
     "output_type": "stream",
     "text": [
      "100%|██████████| 3/3 [00:01<00:00,  2.14it/s]\n",
      "100%|██████████| 3/3 [00:00<00:00,  5.73it/s]\n"
     ]
    },
    {
     "name": "stdout",
     "output_type": "stream",
     "text": [
      "Best performance at Epoch: 5 | 0.5783\n",
      "=======Epoch:99=======lr:1.0000000000000002e-08\n"
     ]
    },
    {
     "name": "stderr",
     "output_type": "stream",
     "text": [
      "100%|██████████| 3/3 [00:01<00:00,  2.18it/s]\n",
      "100%|██████████| 3/3 [00:00<00:00,  7.54it/s]\n"
     ]
    },
    {
     "name": "stdout",
     "output_type": "stream",
     "text": [
      "Best performance at Epoch: 5 | 0.5783\n",
      "=======Epoch:100=======lr:1.0000000000000003e-09\n"
     ]
    },
    {
     "name": "stderr",
     "output_type": "stream",
     "text": [
      "100%|██████████| 3/3 [00:01<00:00,  2.03it/s]\n",
      "100%|██████████| 3/3 [00:00<00:00,  7.00it/s]\n"
     ]
    },
    {
     "name": "stdout",
     "output_type": "stream",
     "text": [
      "Best performance at Epoch: 5 | 0.5783\n",
      "=======Epoch:101=======lr:1.0000000000000003e-09\n"
     ]
    },
    {
     "name": "stderr",
     "output_type": "stream",
     "text": [
      "100%|██████████| 3/3 [00:01<00:00,  2.18it/s]\n",
      "100%|██████████| 3/3 [00:00<00:00,  7.73it/s]\n"
     ]
    },
    {
     "name": "stdout",
     "output_type": "stream",
     "text": [
      "Best performance at Epoch: 5 | 0.5783\n",
      "=======Epoch:102=======lr:1.0000000000000003e-09\n"
     ]
    },
    {
     "name": "stderr",
     "output_type": "stream",
     "text": [
      "100%|██████████| 3/3 [00:01<00:00,  2.01it/s]\n",
      "100%|██████████| 3/3 [00:00<00:00,  6.05it/s]\n"
     ]
    },
    {
     "name": "stdout",
     "output_type": "stream",
     "text": [
      "Best performance at Epoch: 5 | 0.5783\n",
      "=======Epoch:103=======lr:1.0000000000000003e-09\n"
     ]
    },
    {
     "name": "stderr",
     "output_type": "stream",
     "text": [
      "100%|██████████| 3/3 [00:01<00:00,  2.13it/s]\n",
      "100%|██████████| 3/3 [00:00<00:00,  7.24it/s]\n"
     ]
    },
    {
     "name": "stdout",
     "output_type": "stream",
     "text": [
      "Best performance at Epoch: 5 | 0.5783\n",
      "=======Epoch:104=======lr:1.0000000000000003e-09\n"
     ]
    },
    {
     "name": "stderr",
     "output_type": "stream",
     "text": [
      "100%|██████████| 3/3 [00:01<00:00,  2.08it/s]\n",
      "100%|██████████| 3/3 [00:00<00:00,  6.40it/s]\n"
     ]
    },
    {
     "name": "stdout",
     "output_type": "stream",
     "text": [
      "Best performance at Epoch: 5 | 0.5783\n",
      "=======Epoch:105=======lr:1.0000000000000003e-09\n"
     ]
    },
    {
     "name": "stderr",
     "output_type": "stream",
     "text": [
      "100%|██████████| 3/3 [00:01<00:00,  2.05it/s]\n",
      "100%|██████████| 3/3 [00:00<00:00,  6.34it/s]\n"
     ]
    },
    {
     "name": "stdout",
     "output_type": "stream",
     "text": [
      "Best performance at Epoch: 5 | 0.5783\n",
      "=======Epoch:106=======lr:1.0000000000000003e-09\n"
     ]
    },
    {
     "name": "stderr",
     "output_type": "stream",
     "text": [
      "100%|██████████| 3/3 [00:01<00:00,  2.23it/s]\n",
      "100%|██████████| 3/3 [00:00<00:00,  5.75it/s]\n"
     ]
    },
    {
     "name": "stdout",
     "output_type": "stream",
     "text": [
      "Best performance at Epoch: 5 | 0.5783\n",
      "=======Epoch:107=======lr:1.0000000000000003e-09\n"
     ]
    },
    {
     "name": "stderr",
     "output_type": "stream",
     "text": [
      "100%|██████████| 3/3 [00:01<00:00,  2.09it/s]\n",
      "100%|██████████| 3/3 [00:00<00:00,  7.19it/s]\n"
     ]
    },
    {
     "name": "stdout",
     "output_type": "stream",
     "text": [
      "Best performance at Epoch: 5 | 0.5783\n",
      "=======Epoch:108=======lr:1.0000000000000003e-09\n"
     ]
    },
    {
     "name": "stderr",
     "output_type": "stream",
     "text": [
      "100%|██████████| 3/3 [00:01<00:00,  2.14it/s]\n",
      "100%|██████████| 3/3 [00:00<00:00,  7.95it/s]\n"
     ]
    },
    {
     "name": "stdout",
     "output_type": "stream",
     "text": [
      "Best performance at Epoch: 5 | 0.5783\n",
      "=======Epoch:109=======lr:1.0000000000000003e-09\n"
     ]
    },
    {
     "name": "stderr",
     "output_type": "stream",
     "text": [
      "100%|██████████| 3/3 [00:01<00:00,  2.16it/s]\n",
      "100%|██████████| 3/3 [00:00<00:00,  7.44it/s]\n"
     ]
    },
    {
     "name": "stdout",
     "output_type": "stream",
     "text": [
      "Best performance at Epoch: 5 | 0.5783\n",
      "=======Epoch:110=======lr:1.0000000000000003e-09\n"
     ]
    },
    {
     "name": "stderr",
     "output_type": "stream",
     "text": [
      "100%|██████████| 3/3 [00:01<00:00,  2.07it/s]\n",
      "100%|██████████| 3/3 [00:00<00:00,  5.88it/s]\n"
     ]
    },
    {
     "name": "stdout",
     "output_type": "stream",
     "text": [
      "Best performance at Epoch: 5 | 0.5783\n",
      "=======Epoch:111=======lr:1.0000000000000003e-09\n"
     ]
    },
    {
     "name": "stderr",
     "output_type": "stream",
     "text": [
      "100%|██████████| 3/3 [00:01<00:00,  2.12it/s]\n",
      "100%|██████████| 3/3 [00:00<00:00,  6.61it/s]\n"
     ]
    },
    {
     "name": "stdout",
     "output_type": "stream",
     "text": [
      "Best performance at Epoch: 5 | 0.5783\n",
      "=======Epoch:112=======lr:1.0000000000000003e-09\n"
     ]
    },
    {
     "name": "stderr",
     "output_type": "stream",
     "text": [
      "100%|██████████| 3/3 [00:01<00:00,  2.11it/s]\n",
      "100%|██████████| 3/3 [00:00<00:00,  6.29it/s]\n"
     ]
    },
    {
     "name": "stdout",
     "output_type": "stream",
     "text": [
      "Best performance at Epoch: 5 | 0.5783\n",
      "=======Epoch:113=======lr:1.0000000000000003e-09\n"
     ]
    },
    {
     "name": "stderr",
     "output_type": "stream",
     "text": [
      "100%|██████████| 3/3 [00:01<00:00,  2.20it/s]\n",
      "100%|██████████| 3/3 [00:00<00:00,  5.83it/s]\n"
     ]
    },
    {
     "name": "stdout",
     "output_type": "stream",
     "text": [
      "Best performance at Epoch: 5 | 0.5783\n",
      "=======Epoch:114=======lr:1.0000000000000003e-09\n"
     ]
    },
    {
     "name": "stderr",
     "output_type": "stream",
     "text": [
      "100%|██████████| 3/3 [00:01<00:00,  2.06it/s]\n",
      "100%|██████████| 3/3 [00:00<00:00,  6.69it/s]\n"
     ]
    },
    {
     "name": "stdout",
     "output_type": "stream",
     "text": [
      "Best performance at Epoch: 5 | 0.5783\n",
      "=======Epoch:115=======lr:1.0000000000000003e-09\n"
     ]
    },
    {
     "name": "stderr",
     "output_type": "stream",
     "text": [
      "100%|██████████| 3/3 [00:01<00:00,  2.21it/s]\n",
      "100%|██████████| 3/3 [00:00<00:00,  7.68it/s]\n"
     ]
    },
    {
     "name": "stdout",
     "output_type": "stream",
     "text": [
      "Best performance at Epoch: 5 | 0.5783\n",
      "=======Epoch:116=======lr:1.0000000000000003e-09\n"
     ]
    },
    {
     "name": "stderr",
     "output_type": "stream",
     "text": [
      "100%|██████████| 3/3 [00:01<00:00,  2.11it/s]\n",
      "100%|██████████| 3/3 [00:00<00:00,  5.80it/s]\n"
     ]
    },
    {
     "name": "stdout",
     "output_type": "stream",
     "text": [
      "Best performance at Epoch: 5 | 0.5783\n",
      "=======Epoch:117=======lr:1.0000000000000003e-09\n"
     ]
    },
    {
     "name": "stderr",
     "output_type": "stream",
     "text": [
      "100%|██████████| 3/3 [00:01<00:00,  2.18it/s]\n",
      "100%|██████████| 3/3 [00:00<00:00,  7.02it/s]\n"
     ]
    },
    {
     "name": "stdout",
     "output_type": "stream",
     "text": [
      "Best performance at Epoch: 5 | 0.5783\n",
      "=======Epoch:118=======lr:1.0000000000000003e-09\n"
     ]
    },
    {
     "name": "stderr",
     "output_type": "stream",
     "text": [
      "100%|██████████| 3/3 [00:01<00:00,  2.04it/s]\n",
      "100%|██████████| 3/3 [00:00<00:00,  6.35it/s]\n"
     ]
    },
    {
     "name": "stdout",
     "output_type": "stream",
     "text": [
      "Best performance at Epoch: 5 | 0.5783\n",
      "=======Epoch:119=======lr:1.0000000000000003e-09\n"
     ]
    },
    {
     "name": "stderr",
     "output_type": "stream",
     "text": [
      "100%|██████████| 3/3 [00:01<00:00,  2.19it/s]\n",
      "100%|██████████| 3/3 [00:00<00:00,  7.39it/s]\n"
     ]
    },
    {
     "name": "stdout",
     "output_type": "stream",
     "text": [
      "Best performance at Epoch: 5 | 0.5783\n",
      "=======Epoch:120=======lr:1.0000000000000004e-10\n"
     ]
    },
    {
     "name": "stderr",
     "output_type": "stream",
     "text": [
      "100%|██████████| 3/3 [00:01<00:00,  2.18it/s]\n",
      "100%|██████████| 3/3 [00:00<00:00,  7.97it/s]\n"
     ]
    },
    {
     "name": "stdout",
     "output_type": "stream",
     "text": [
      "Best performance at Epoch: 5 | 0.5783\n",
      "=======Epoch:121=======lr:1.0000000000000004e-10\n"
     ]
    },
    {
     "name": "stderr",
     "output_type": "stream",
     "text": [
      "100%|██████████| 3/3 [00:01<00:00,  2.13it/s]\n",
      "100%|██████████| 3/3 [00:00<00:00,  7.42it/s]\n"
     ]
    },
    {
     "name": "stdout",
     "output_type": "stream",
     "text": [
      "Best performance at Epoch: 5 | 0.5783\n",
      "=======Epoch:122=======lr:1.0000000000000004e-10\n"
     ]
    },
    {
     "name": "stderr",
     "output_type": "stream",
     "text": [
      "100%|██████████| 3/3 [00:01<00:00,  2.06it/s]\n",
      "100%|██████████| 3/3 [00:00<00:00,  7.13it/s]\n"
     ]
    },
    {
     "name": "stdout",
     "output_type": "stream",
     "text": [
      "Best performance at Epoch: 5 | 0.5783\n",
      "=======Epoch:123=======lr:1.0000000000000004e-10\n"
     ]
    },
    {
     "name": "stderr",
     "output_type": "stream",
     "text": [
      "100%|██████████| 3/3 [00:01<00:00,  2.14it/s]\n",
      "100%|██████████| 3/3 [00:00<00:00,  7.06it/s]\n"
     ]
    },
    {
     "name": "stdout",
     "output_type": "stream",
     "text": [
      "Best performance at Epoch: 5 | 0.5783\n",
      "=======Epoch:124=======lr:1.0000000000000004e-10\n"
     ]
    },
    {
     "name": "stderr",
     "output_type": "stream",
     "text": [
      "100%|██████████| 3/3 [00:01<00:00,  2.02it/s]\n",
      "100%|██████████| 3/3 [00:00<00:00,  6.52it/s]\n"
     ]
    },
    {
     "name": "stdout",
     "output_type": "stream",
     "text": [
      "Best performance at Epoch: 5 | 0.5783\n",
      "=======Epoch:125=======lr:1.0000000000000004e-10\n"
     ]
    },
    {
     "name": "stderr",
     "output_type": "stream",
     "text": [
      "100%|██████████| 3/3 [00:01<00:00,  2.11it/s]\n",
      "100%|██████████| 3/3 [00:00<00:00,  7.59it/s]\n"
     ]
    },
    {
     "name": "stdout",
     "output_type": "stream",
     "text": [
      "Best performance at Epoch: 5 | 0.5783\n",
      "=======Epoch:126=======lr:1.0000000000000004e-10\n"
     ]
    },
    {
     "name": "stderr",
     "output_type": "stream",
     "text": [
      "100%|██████████| 3/3 [00:01<00:00,  2.10it/s]\n",
      "100%|██████████| 3/3 [00:00<00:00,  7.53it/s]\n"
     ]
    },
    {
     "name": "stdout",
     "output_type": "stream",
     "text": [
      "Best performance at Epoch: 5 | 0.5783\n",
      "=======Epoch:127=======lr:1.0000000000000004e-10\n"
     ]
    },
    {
     "name": "stderr",
     "output_type": "stream",
     "text": [
      "100%|██████████| 3/3 [00:01<00:00,  2.14it/s]\n",
      "100%|██████████| 3/3 [00:00<00:00,  6.62it/s]\n"
     ]
    },
    {
     "name": "stdout",
     "output_type": "stream",
     "text": [
      "Best performance at Epoch: 5 | 0.5783\n",
      "=======Epoch:128=======lr:1.0000000000000004e-10\n"
     ]
    },
    {
     "name": "stderr",
     "output_type": "stream",
     "text": [
      "100%|██████████| 3/3 [00:01<00:00,  2.24it/s]\n",
      "100%|██████████| 3/3 [00:00<00:00,  5.69it/s]\n"
     ]
    },
    {
     "name": "stdout",
     "output_type": "stream",
     "text": [
      "Best performance at Epoch: 5 | 0.5783\n",
      "=======Epoch:129=======lr:1.0000000000000004e-10\n"
     ]
    },
    {
     "name": "stderr",
     "output_type": "stream",
     "text": [
      "100%|██████████| 3/3 [00:01<00:00,  2.08it/s]\n",
      "100%|██████████| 3/3 [00:00<00:00,  7.45it/s]\n"
     ]
    },
    {
     "name": "stdout",
     "output_type": "stream",
     "text": [
      "Best performance at Epoch: 5 | 0.5783\n",
      "=======Epoch:130=======lr:1.0000000000000004e-10\n"
     ]
    },
    {
     "name": "stderr",
     "output_type": "stream",
     "text": [
      "100%|██████████| 3/3 [00:01<00:00,  2.12it/s]\n",
      "100%|██████████| 3/3 [00:00<00:00,  6.47it/s]\n"
     ]
    },
    {
     "name": "stdout",
     "output_type": "stream",
     "text": [
      "Best performance at Epoch: 5 | 0.5783\n",
      "=======Epoch:131=======lr:1.0000000000000004e-10\n"
     ]
    },
    {
     "name": "stderr",
     "output_type": "stream",
     "text": [
      "100%|██████████| 3/3 [00:01<00:00,  2.01it/s]\n",
      "100%|██████████| 3/3 [00:00<00:00,  6.29it/s]\n"
     ]
    },
    {
     "name": "stdout",
     "output_type": "stream",
     "text": [
      "Best performance at Epoch: 5 | 0.5783\n",
      "=======Epoch:132=======lr:1.0000000000000004e-10\n"
     ]
    },
    {
     "name": "stderr",
     "output_type": "stream",
     "text": [
      "100%|██████████| 3/3 [00:01<00:00,  2.15it/s]\n",
      "100%|██████████| 3/3 [00:00<00:00,  7.21it/s]\n"
     ]
    },
    {
     "name": "stdout",
     "output_type": "stream",
     "text": [
      "Best performance at Epoch: 5 | 0.5783\n",
      "=======Epoch:133=======lr:1.0000000000000004e-10\n"
     ]
    },
    {
     "name": "stderr",
     "output_type": "stream",
     "text": [
      "100%|██████████| 3/3 [00:01<00:00,  2.07it/s]\n",
      "100%|██████████| 3/3 [00:00<00:00,  7.07it/s]\n"
     ]
    },
    {
     "name": "stdout",
     "output_type": "stream",
     "text": [
      "Best performance at Epoch: 5 | 0.5783\n",
      "=======Epoch:134=======lr:1.0000000000000004e-10\n"
     ]
    },
    {
     "name": "stderr",
     "output_type": "stream",
     "text": [
      "100%|██████████| 3/3 [00:01<00:00,  2.10it/s]\n",
      "100%|██████████| 3/3 [00:00<00:00,  6.66it/s]\n"
     ]
    },
    {
     "name": "stdout",
     "output_type": "stream",
     "text": [
      "Best performance at Epoch: 5 | 0.5783\n",
      "=======Epoch:135=======lr:1.0000000000000004e-10\n"
     ]
    },
    {
     "name": "stderr",
     "output_type": "stream",
     "text": [
      "100%|██████████| 3/3 [00:01<00:00,  2.08it/s]\n",
      "100%|██████████| 3/3 [00:00<00:00,  5.72it/s]\n"
     ]
    },
    {
     "name": "stdout",
     "output_type": "stream",
     "text": [
      "Best performance at Epoch: 5 | 0.5783\n",
      "=======Epoch:136=======lr:1.0000000000000004e-10\n"
     ]
    },
    {
     "name": "stderr",
     "output_type": "stream",
     "text": [
      "100%|██████████| 3/3 [00:01<00:00,  2.22it/s]\n",
      "100%|██████████| 3/3 [00:00<00:00,  6.69it/s]\n"
     ]
    },
    {
     "name": "stdout",
     "output_type": "stream",
     "text": [
      "Best performance at Epoch: 5 | 0.5783\n",
      "=======Epoch:137=======lr:1.0000000000000004e-10\n"
     ]
    },
    {
     "name": "stderr",
     "output_type": "stream",
     "text": [
      "100%|██████████| 3/3 [00:01<00:00,  2.11it/s]\n",
      "100%|██████████| 3/3 [00:00<00:00,  7.03it/s]\n"
     ]
    },
    {
     "name": "stdout",
     "output_type": "stream",
     "text": [
      "Best performance at Epoch: 5 | 0.5783\n",
      "=======Epoch:138=======lr:1.0000000000000004e-10\n"
     ]
    },
    {
     "name": "stderr",
     "output_type": "stream",
     "text": [
      "100%|██████████| 3/3 [00:01<00:00,  2.16it/s]\n",
      "100%|██████████| 3/3 [00:00<00:00,  6.91it/s]\n"
     ]
    },
    {
     "name": "stdout",
     "output_type": "stream",
     "text": [
      "Best performance at Epoch: 5 | 0.5783\n",
      "=======Epoch:139=======lr:1.0000000000000004e-10\n"
     ]
    },
    {
     "name": "stderr",
     "output_type": "stream",
     "text": [
      "100%|██████████| 3/3 [00:01<00:00,  2.24it/s]\n",
      "100%|██████████| 3/3 [00:00<00:00,  6.94it/s]\n"
     ]
    },
    {
     "name": "stdout",
     "output_type": "stream",
     "text": [
      "Best performance at Epoch: 5 | 0.5783\n",
      "=======Epoch:140=======lr:1.0000000000000004e-11\n"
     ]
    },
    {
     "name": "stderr",
     "output_type": "stream",
     "text": [
      "100%|██████████| 3/3 [00:01<00:00,  2.05it/s]\n",
      "100%|██████████| 3/3 [00:00<00:00,  6.40it/s]\n"
     ]
    },
    {
     "name": "stdout",
     "output_type": "stream",
     "text": [
      "Best performance at Epoch: 5 | 0.5783\n",
      "=======Epoch:141=======lr:1.0000000000000004e-11\n"
     ]
    },
    {
     "name": "stderr",
     "output_type": "stream",
     "text": [
      "100%|██████████| 3/3 [00:01<00:00,  2.15it/s]\n",
      "100%|██████████| 3/3 [00:00<00:00,  7.37it/s]\n"
     ]
    },
    {
     "name": "stdout",
     "output_type": "stream",
     "text": [
      "Best performance at Epoch: 5 | 0.5783\n",
      "=======Epoch:142=======lr:1.0000000000000004e-11\n"
     ]
    },
    {
     "name": "stderr",
     "output_type": "stream",
     "text": [
      "100%|██████████| 3/3 [00:01<00:00,  2.21it/s]\n",
      "100%|██████████| 3/3 [00:00<00:00,  6.74it/s]\n"
     ]
    },
    {
     "name": "stdout",
     "output_type": "stream",
     "text": [
      "Best performance at Epoch: 5 | 0.5783\n",
      "=======Epoch:143=======lr:1.0000000000000004e-11\n"
     ]
    },
    {
     "name": "stderr",
     "output_type": "stream",
     "text": [
      "100%|██████████| 3/3 [00:01<00:00,  2.07it/s]\n",
      "100%|██████████| 3/3 [00:00<00:00,  6.89it/s]\n"
     ]
    },
    {
     "name": "stdout",
     "output_type": "stream",
     "text": [
      "Best performance at Epoch: 5 | 0.5783\n",
      "=======Epoch:144=======lr:1.0000000000000004e-11\n"
     ]
    },
    {
     "name": "stderr",
     "output_type": "stream",
     "text": [
      "100%|██████████| 3/3 [00:01<00:00,  2.14it/s]\n",
      "100%|██████████| 3/3 [00:00<00:00,  8.18it/s]\n"
     ]
    },
    {
     "name": "stdout",
     "output_type": "stream",
     "text": [
      "Best performance at Epoch: 5 | 0.5783\n",
      "=======Epoch:145=======lr:1.0000000000000004e-11\n"
     ]
    },
    {
     "name": "stderr",
     "output_type": "stream",
     "text": [
      "100%|██████████| 3/3 [00:01<00:00,  2.07it/s]\n",
      "100%|██████████| 3/3 [00:00<00:00,  6.09it/s]\n"
     ]
    },
    {
     "name": "stdout",
     "output_type": "stream",
     "text": [
      "Best performance at Epoch: 5 | 0.5783\n",
      "=======Epoch:146=======lr:1.0000000000000004e-11\n"
     ]
    },
    {
     "name": "stderr",
     "output_type": "stream",
     "text": [
      "100%|██████████| 3/3 [00:01<00:00,  2.12it/s]\n",
      "100%|██████████| 3/3 [00:00<00:00,  7.61it/s]\n"
     ]
    },
    {
     "name": "stdout",
     "output_type": "stream",
     "text": [
      "Best performance at Epoch: 5 | 0.5783\n",
      "=======Epoch:147=======lr:1.0000000000000004e-11\n"
     ]
    },
    {
     "name": "stderr",
     "output_type": "stream",
     "text": [
      "100%|██████████| 3/3 [00:01<00:00,  2.16it/s]\n",
      "100%|██████████| 3/3 [00:00<00:00,  6.37it/s]\n"
     ]
    },
    {
     "name": "stdout",
     "output_type": "stream",
     "text": [
      "Best performance at Epoch: 5 | 0.5783\n",
      "=======Epoch:148=======lr:1.0000000000000004e-11\n"
     ]
    },
    {
     "name": "stderr",
     "output_type": "stream",
     "text": [
      "100%|██████████| 3/3 [00:01<00:00,  2.23it/s]\n",
      "100%|██████████| 3/3 [00:00<00:00,  7.37it/s]\n"
     ]
    },
    {
     "name": "stdout",
     "output_type": "stream",
     "text": [
      "Best performance at Epoch: 5 | 0.5783\n",
      "=======Epoch:149=======lr:1.0000000000000004e-11\n"
     ]
    },
    {
     "name": "stderr",
     "output_type": "stream",
     "text": [
      "100%|██████████| 3/3 [00:01<00:00,  2.07it/s]\n",
      "100%|██████████| 3/3 [00:00<00:00,  8.07it/s]\n"
     ]
    },
    {
     "name": "stdout",
     "output_type": "stream",
     "text": [
      "Best performance at Epoch: 5 | 0.5783\n",
      "=======Epoch:150=======lr:1.0000000000000004e-11\n"
     ]
    },
    {
     "name": "stderr",
     "output_type": "stream",
     "text": [
      "100%|██████████| 3/3 [00:01<00:00,  2.15it/s]\n",
      "100%|██████████| 3/3 [00:00<00:00,  7.11it/s]\n"
     ]
    },
    {
     "name": "stdout",
     "output_type": "stream",
     "text": [
      "Best performance at Epoch: 5 | 0.5783\n",
      "=======Epoch:151=======lr:1.0000000000000004e-11\n"
     ]
    },
    {
     "name": "stderr",
     "output_type": "stream",
     "text": [
      "100%|██████████| 3/3 [00:01<00:00,  2.02it/s]\n",
      "100%|██████████| 3/3 [00:00<00:00,  7.71it/s]\n"
     ]
    },
    {
     "name": "stdout",
     "output_type": "stream",
     "text": [
      "Best performance at Epoch: 5 | 0.5783\n",
      "=======Epoch:152=======lr:1.0000000000000004e-11\n"
     ]
    },
    {
     "name": "stderr",
     "output_type": "stream",
     "text": [
      "100%|██████████| 3/3 [00:01<00:00,  2.01it/s]\n",
      "100%|██████████| 3/3 [00:00<00:00,  6.21it/s]\n"
     ]
    },
    {
     "name": "stdout",
     "output_type": "stream",
     "text": [
      "Best performance at Epoch: 5 | 0.5783\n",
      "=======Epoch:153=======lr:1.0000000000000004e-11\n"
     ]
    },
    {
     "name": "stderr",
     "output_type": "stream",
     "text": [
      "100%|██████████| 3/3 [00:01<00:00,  2.19it/s]\n",
      "100%|██████████| 3/3 [00:00<00:00,  7.48it/s]\n"
     ]
    },
    {
     "name": "stdout",
     "output_type": "stream",
     "text": [
      "Best performance at Epoch: 5 | 0.5783\n",
      "=======Epoch:154=======lr:1.0000000000000004e-11\n"
     ]
    },
    {
     "name": "stderr",
     "output_type": "stream",
     "text": [
      "100%|██████████| 3/3 [00:01<00:00,  2.22it/s]\n",
      "100%|██████████| 3/3 [00:00<00:00,  6.98it/s]\n"
     ]
    },
    {
     "name": "stdout",
     "output_type": "stream",
     "text": [
      "Best performance at Epoch: 5 | 0.5783\n",
      "=======Epoch:155=======lr:1.0000000000000004e-11\n"
     ]
    },
    {
     "name": "stderr",
     "output_type": "stream",
     "text": [
      "100%|██████████| 3/3 [00:01<00:00,  2.19it/s]\n",
      "100%|██████████| 3/3 [00:00<00:00,  6.35it/s]\n"
     ]
    },
    {
     "name": "stdout",
     "output_type": "stream",
     "text": [
      "Best performance at Epoch: 5 | 0.5783\n",
      "=======Epoch:156=======lr:1.0000000000000004e-11\n"
     ]
    },
    {
     "name": "stderr",
     "output_type": "stream",
     "text": [
      "100%|██████████| 3/3 [00:01<00:00,  2.11it/s]\n",
      "100%|██████████| 3/3 [00:00<00:00,  7.67it/s]\n"
     ]
    },
    {
     "name": "stdout",
     "output_type": "stream",
     "text": [
      "Best performance at Epoch: 5 | 0.5783\n",
      "=======Epoch:157=======lr:1.0000000000000004e-11\n"
     ]
    },
    {
     "name": "stderr",
     "output_type": "stream",
     "text": [
      "100%|██████████| 3/3 [00:01<00:00,  2.08it/s]\n",
      "100%|██████████| 3/3 [00:00<00:00,  6.86it/s]\n"
     ]
    },
    {
     "name": "stdout",
     "output_type": "stream",
     "text": [
      "Best performance at Epoch: 5 | 0.5783\n",
      "=======Epoch:158=======lr:1.0000000000000004e-11\n"
     ]
    },
    {
     "name": "stderr",
     "output_type": "stream",
     "text": [
      "100%|██████████| 3/3 [00:01<00:00,  2.05it/s]\n",
      "100%|██████████| 3/3 [00:00<00:00,  6.59it/s]\n"
     ]
    },
    {
     "name": "stdout",
     "output_type": "stream",
     "text": [
      "Best performance at Epoch: 5 | 0.5783\n",
      "=======Epoch:159=======lr:1.0000000000000004e-11\n"
     ]
    },
    {
     "name": "stderr",
     "output_type": "stream",
     "text": [
      "100%|██████████| 3/3 [00:01<00:00,  2.18it/s]\n",
      "100%|██████████| 3/3 [00:00<00:00,  6.80it/s]\n"
     ]
    },
    {
     "name": "stdout",
     "output_type": "stream",
     "text": [
      "Best performance at Epoch: 5 | 0.5783\n",
      "=======Epoch:160=======lr:1.0000000000000006e-12\n"
     ]
    },
    {
     "name": "stderr",
     "output_type": "stream",
     "text": [
      "100%|██████████| 3/3 [00:01<00:00,  2.18it/s]\n",
      "100%|██████████| 3/3 [00:00<00:00,  7.19it/s]\n"
     ]
    },
    {
     "name": "stdout",
     "output_type": "stream",
     "text": [
      "Best performance at Epoch: 5 | 0.5783\n",
      "=======Epoch:161=======lr:1.0000000000000006e-12\n"
     ]
    },
    {
     "name": "stderr",
     "output_type": "stream",
     "text": [
      "100%|██████████| 3/3 [00:01<00:00,  2.21it/s]\n",
      "100%|██████████| 3/3 [00:00<00:00,  8.19it/s]\n"
     ]
    },
    {
     "name": "stdout",
     "output_type": "stream",
     "text": [
      "Best performance at Epoch: 5 | 0.5783\n",
      "=======Epoch:162=======lr:1.0000000000000006e-12\n"
     ]
    },
    {
     "name": "stderr",
     "output_type": "stream",
     "text": [
      "100%|██████████| 3/3 [00:01<00:00,  2.13it/s]\n",
      "100%|██████████| 3/3 [00:00<00:00,  6.94it/s]\n"
     ]
    },
    {
     "name": "stdout",
     "output_type": "stream",
     "text": [
      "Best performance at Epoch: 5 | 0.5783\n",
      "=======Epoch:163=======lr:1.0000000000000006e-12\n"
     ]
    },
    {
     "name": "stderr",
     "output_type": "stream",
     "text": [
      "100%|██████████| 3/3 [00:01<00:00,  2.04it/s]\n",
      "100%|██████████| 3/3 [00:00<00:00,  6.84it/s]\n"
     ]
    },
    {
     "name": "stdout",
     "output_type": "stream",
     "text": [
      "Best performance at Epoch: 5 | 0.5783\n",
      "=======Epoch:164=======lr:1.0000000000000006e-12\n"
     ]
    },
    {
     "name": "stderr",
     "output_type": "stream",
     "text": [
      "100%|██████████| 3/3 [00:01<00:00,  2.18it/s]\n",
      "100%|██████████| 3/3 [00:00<00:00,  7.14it/s]\n"
     ]
    },
    {
     "name": "stdout",
     "output_type": "stream",
     "text": [
      "Best performance at Epoch: 5 | 0.5783\n",
      "=======Epoch:165=======lr:1.0000000000000006e-12\n"
     ]
    },
    {
     "name": "stderr",
     "output_type": "stream",
     "text": [
      "100%|██████████| 3/3 [00:01<00:00,  2.23it/s]\n",
      "100%|██████████| 3/3 [00:00<00:00,  6.04it/s]\n"
     ]
    },
    {
     "name": "stdout",
     "output_type": "stream",
     "text": [
      "Best performance at Epoch: 5 | 0.5783\n",
      "=======Epoch:166=======lr:1.0000000000000006e-12\n"
     ]
    },
    {
     "name": "stderr",
     "output_type": "stream",
     "text": [
      "100%|██████████| 3/3 [00:01<00:00,  2.09it/s]\n",
      "100%|██████████| 3/3 [00:00<00:00,  7.44it/s]\n"
     ]
    },
    {
     "name": "stdout",
     "output_type": "stream",
     "text": [
      "Best performance at Epoch: 5 | 0.5783\n",
      "=======Epoch:167=======lr:1.0000000000000006e-12\n"
     ]
    },
    {
     "name": "stderr",
     "output_type": "stream",
     "text": [
      "100%|██████████| 3/3 [00:01<00:00,  2.14it/s]\n",
      "100%|██████████| 3/3 [00:00<00:00,  6.97it/s]\n"
     ]
    },
    {
     "name": "stdout",
     "output_type": "stream",
     "text": [
      "Best performance at Epoch: 5 | 0.5783\n",
      "=======Epoch:168=======lr:1.0000000000000006e-12\n"
     ]
    },
    {
     "name": "stderr",
     "output_type": "stream",
     "text": [
      "100%|██████████| 3/3 [00:01<00:00,  2.07it/s]\n",
      "100%|██████████| 3/3 [00:00<00:00,  6.39it/s]\n"
     ]
    },
    {
     "name": "stdout",
     "output_type": "stream",
     "text": [
      "Best performance at Epoch: 5 | 0.5783\n",
      "=======Epoch:169=======lr:1.0000000000000006e-12\n"
     ]
    },
    {
     "name": "stderr",
     "output_type": "stream",
     "text": [
      "100%|██████████| 3/3 [00:01<00:00,  2.19it/s]\n",
      "100%|██████████| 3/3 [00:00<00:00,  7.15it/s]\n"
     ]
    },
    {
     "name": "stdout",
     "output_type": "stream",
     "text": [
      "Best performance at Epoch: 5 | 0.5783\n",
      "=======Epoch:170=======lr:1.0000000000000006e-12\n"
     ]
    },
    {
     "name": "stderr",
     "output_type": "stream",
     "text": [
      "100%|██████████| 3/3 [00:01<00:00,  2.07it/s]\n",
      "100%|██████████| 3/3 [00:00<00:00,  7.75it/s]\n"
     ]
    },
    {
     "name": "stdout",
     "output_type": "stream",
     "text": [
      "Best performance at Epoch: 5 | 0.5783\n",
      "=======Epoch:171=======lr:1.0000000000000006e-12\n"
     ]
    },
    {
     "name": "stderr",
     "output_type": "stream",
     "text": [
      "100%|██████████| 3/3 [00:01<00:00,  2.14it/s]\n",
      "100%|██████████| 3/3 [00:00<00:00,  7.42it/s]\n"
     ]
    },
    {
     "name": "stdout",
     "output_type": "stream",
     "text": [
      "Best performance at Epoch: 5 | 0.5783\n",
      "=======Epoch:172=======lr:1.0000000000000006e-12\n"
     ]
    },
    {
     "name": "stderr",
     "output_type": "stream",
     "text": [
      "100%|██████████| 3/3 [00:01<00:00,  2.11it/s]\n",
      "100%|██████████| 3/3 [00:00<00:00,  7.87it/s]\n"
     ]
    },
    {
     "name": "stdout",
     "output_type": "stream",
     "text": [
      "Best performance at Epoch: 5 | 0.5783\n",
      "=======Epoch:173=======lr:1.0000000000000006e-12\n"
     ]
    },
    {
     "name": "stderr",
     "output_type": "stream",
     "text": [
      "100%|██████████| 3/3 [00:01<00:00,  2.06it/s]\n",
      "100%|██████████| 3/3 [00:00<00:00,  7.61it/s]\n"
     ]
    },
    {
     "name": "stdout",
     "output_type": "stream",
     "text": [
      "Best performance at Epoch: 5 | 0.5783\n",
      "=======Epoch:174=======lr:1.0000000000000006e-12\n"
     ]
    },
    {
     "name": "stderr",
     "output_type": "stream",
     "text": [
      "100%|██████████| 3/3 [00:01<00:00,  2.15it/s]\n",
      "100%|██████████| 3/3 [00:00<00:00,  7.29it/s]\n"
     ]
    },
    {
     "name": "stdout",
     "output_type": "stream",
     "text": [
      "Best performance at Epoch: 5 | 0.5783\n",
      "=======Epoch:175=======lr:1.0000000000000006e-12\n"
     ]
    },
    {
     "name": "stderr",
     "output_type": "stream",
     "text": [
      "100%|██████████| 3/3 [00:01<00:00,  2.04it/s]\n",
      "100%|██████████| 3/3 [00:00<00:00,  6.87it/s]\n"
     ]
    },
    {
     "name": "stdout",
     "output_type": "stream",
     "text": [
      "Best performance at Epoch: 5 | 0.5783\n",
      "=======Epoch:176=======lr:1.0000000000000006e-12\n"
     ]
    },
    {
     "name": "stderr",
     "output_type": "stream",
     "text": [
      "100%|██████████| 3/3 [00:01<00:00,  2.14it/s]\n",
      "100%|██████████| 3/3 [00:00<00:00,  7.43it/s]\n"
     ]
    },
    {
     "name": "stdout",
     "output_type": "stream",
     "text": [
      "Best performance at Epoch: 5 | 0.5783\n",
      "=======Epoch:177=======lr:1.0000000000000006e-12\n"
     ]
    },
    {
     "name": "stderr",
     "output_type": "stream",
     "text": [
      "100%|██████████| 3/3 [00:01<00:00,  2.07it/s]\n",
      "100%|██████████| 3/3 [00:00<00:00,  6.46it/s]\n"
     ]
    },
    {
     "name": "stdout",
     "output_type": "stream",
     "text": [
      "Best performance at Epoch: 5 | 0.5783\n",
      "=======Epoch:178=======lr:1.0000000000000006e-12\n"
     ]
    },
    {
     "name": "stderr",
     "output_type": "stream",
     "text": [
      "100%|██████████| 3/3 [00:01<00:00,  2.19it/s]\n",
      "100%|██████████| 3/3 [00:00<00:00,  7.60it/s]\n"
     ]
    },
    {
     "name": "stdout",
     "output_type": "stream",
     "text": [
      "Best performance at Epoch: 5 | 0.5783\n",
      "=======Epoch:179=======lr:1.0000000000000006e-12\n"
     ]
    },
    {
     "name": "stderr",
     "output_type": "stream",
     "text": [
      "100%|██████████| 3/3 [00:01<00:00,  2.16it/s]\n",
      "100%|██████████| 3/3 [00:00<00:00,  6.32it/s]\n"
     ]
    },
    {
     "name": "stdout",
     "output_type": "stream",
     "text": [
      "Best performance at Epoch: 5 | 0.5783\n",
      "=======Epoch:180=======lr:1.0000000000000005e-13\n"
     ]
    },
    {
     "name": "stderr",
     "output_type": "stream",
     "text": [
      "100%|██████████| 3/3 [00:01<00:00,  1.98it/s]\n",
      "100%|██████████| 3/3 [00:00<00:00,  5.97it/s]\n"
     ]
    },
    {
     "name": "stdout",
     "output_type": "stream",
     "text": [
      "Best performance at Epoch: 5 | 0.5783\n",
      "=======Epoch:181=======lr:1.0000000000000005e-13\n"
     ]
    },
    {
     "name": "stderr",
     "output_type": "stream",
     "text": [
      "100%|██████████| 3/3 [00:01<00:00,  2.18it/s]\n",
      "100%|██████████| 3/3 [00:00<00:00,  7.32it/s]\n"
     ]
    },
    {
     "name": "stdout",
     "output_type": "stream",
     "text": [
      "Best performance at Epoch: 5 | 0.5783\n",
      "=======Epoch:182=======lr:1.0000000000000005e-13\n"
     ]
    },
    {
     "name": "stderr",
     "output_type": "stream",
     "text": [
      "100%|██████████| 3/3 [00:01<00:00,  2.06it/s]\n",
      "100%|██████████| 3/3 [00:00<00:00,  6.73it/s]\n"
     ]
    },
    {
     "name": "stdout",
     "output_type": "stream",
     "text": [
      "Best performance at Epoch: 5 | 0.5783\n",
      "=======Epoch:183=======lr:1.0000000000000005e-13\n"
     ]
    },
    {
     "name": "stderr",
     "output_type": "stream",
     "text": [
      "100%|██████████| 3/3 [00:01<00:00,  2.14it/s]\n",
      "100%|██████████| 3/3 [00:00<00:00,  7.60it/s]\n"
     ]
    },
    {
     "name": "stdout",
     "output_type": "stream",
     "text": [
      "Best performance at Epoch: 5 | 0.5783\n",
      "=======Epoch:184=======lr:1.0000000000000005e-13\n"
     ]
    },
    {
     "name": "stderr",
     "output_type": "stream",
     "text": [
      "100%|██████████| 3/3 [00:01<00:00,  2.12it/s]\n",
      "100%|██████████| 3/3 [00:00<00:00,  5.87it/s]\n"
     ]
    },
    {
     "name": "stdout",
     "output_type": "stream",
     "text": [
      "Best performance at Epoch: 5 | 0.5783\n",
      "=======Epoch:185=======lr:1.0000000000000005e-13\n"
     ]
    },
    {
     "name": "stderr",
     "output_type": "stream",
     "text": [
      "100%|██████████| 3/3 [00:01<00:00,  2.20it/s]\n",
      "100%|██████████| 3/3 [00:00<00:00,  6.27it/s]\n"
     ]
    },
    {
     "name": "stdout",
     "output_type": "stream",
     "text": [
      "Best performance at Epoch: 5 | 0.5783\n",
      "=======Epoch:186=======lr:1.0000000000000005e-13\n"
     ]
    },
    {
     "name": "stderr",
     "output_type": "stream",
     "text": [
      "100%|██████████| 3/3 [00:01<00:00,  2.23it/s]\n",
      "100%|██████████| 3/3 [00:00<00:00,  7.55it/s]\n"
     ]
    },
    {
     "name": "stdout",
     "output_type": "stream",
     "text": [
      "Best performance at Epoch: 5 | 0.5783\n",
      "=======Epoch:187=======lr:1.0000000000000005e-13\n"
     ]
    },
    {
     "name": "stderr",
     "output_type": "stream",
     "text": [
      "100%|██████████| 3/3 [00:01<00:00,  2.13it/s]\n",
      "100%|██████████| 3/3 [00:00<00:00,  6.33it/s]\n"
     ]
    },
    {
     "name": "stdout",
     "output_type": "stream",
     "text": [
      "Best performance at Epoch: 5 | 0.5783\n",
      "=======Epoch:188=======lr:1.0000000000000005e-13\n"
     ]
    },
    {
     "name": "stderr",
     "output_type": "stream",
     "text": [
      "100%|██████████| 3/3 [00:01<00:00,  2.17it/s]\n",
      "100%|██████████| 3/3 [00:00<00:00,  7.33it/s]\n"
     ]
    },
    {
     "name": "stdout",
     "output_type": "stream",
     "text": [
      "Best performance at Epoch: 5 | 0.5783\n",
      "=======Epoch:189=======lr:1.0000000000000005e-13\n"
     ]
    },
    {
     "name": "stderr",
     "output_type": "stream",
     "text": [
      "100%|██████████| 3/3 [00:01<00:00,  2.22it/s]\n",
      "100%|██████████| 3/3 [00:00<00:00,  7.43it/s]\n"
     ]
    },
    {
     "name": "stdout",
     "output_type": "stream",
     "text": [
      "Best performance at Epoch: 5 | 0.5783\n",
      "=======Epoch:190=======lr:1.0000000000000005e-13\n"
     ]
    },
    {
     "name": "stderr",
     "output_type": "stream",
     "text": [
      "100%|██████████| 3/3 [00:01<00:00,  2.16it/s]\n",
      "100%|██████████| 3/3 [00:00<00:00,  6.48it/s]\n"
     ]
    },
    {
     "name": "stdout",
     "output_type": "stream",
     "text": [
      "Best performance at Epoch: 5 | 0.5783\n",
      "=======Epoch:191=======lr:1.0000000000000005e-13\n"
     ]
    },
    {
     "name": "stderr",
     "output_type": "stream",
     "text": [
      "100%|██████████| 3/3 [00:01<00:00,  2.18it/s]\n",
      "100%|██████████| 3/3 [00:00<00:00,  6.67it/s]\n"
     ]
    },
    {
     "name": "stdout",
     "output_type": "stream",
     "text": [
      "Best performance at Epoch: 5 | 0.5783\n",
      "=======Epoch:192=======lr:1.0000000000000005e-13\n"
     ]
    },
    {
     "name": "stderr",
     "output_type": "stream",
     "text": [
      "100%|██████████| 3/3 [00:01<00:00,  2.04it/s]\n",
      "100%|██████████| 3/3 [00:00<00:00,  6.47it/s]\n"
     ]
    },
    {
     "name": "stdout",
     "output_type": "stream",
     "text": [
      "Best performance at Epoch: 5 | 0.5783\n",
      "=======Epoch:193=======lr:1.0000000000000005e-13\n"
     ]
    },
    {
     "name": "stderr",
     "output_type": "stream",
     "text": [
      "100%|██████████| 3/3 [00:01<00:00,  2.18it/s]\n",
      "100%|██████████| 3/3 [00:00<00:00,  6.91it/s]\n"
     ]
    },
    {
     "name": "stdout",
     "output_type": "stream",
     "text": [
      "Best performance at Epoch: 5 | 0.5783\n",
      "=======Epoch:194=======lr:1.0000000000000005e-13\n"
     ]
    },
    {
     "name": "stderr",
     "output_type": "stream",
     "text": [
      "100%|██████████| 3/3 [00:01<00:00,  2.18it/s]\n",
      "100%|██████████| 3/3 [00:00<00:00,  7.30it/s]\n"
     ]
    },
    {
     "name": "stdout",
     "output_type": "stream",
     "text": [
      "Best performance at Epoch: 5 | 0.5783\n",
      "=======Epoch:195=======lr:1.0000000000000005e-13\n"
     ]
    },
    {
     "name": "stderr",
     "output_type": "stream",
     "text": [
      "100%|██████████| 3/3 [00:01<00:00,  1.94it/s]\n",
      "100%|██████████| 3/3 [00:00<00:00,  6.67it/s]\n"
     ]
    },
    {
     "name": "stdout",
     "output_type": "stream",
     "text": [
      "Best performance at Epoch: 5 | 0.5783\n",
      "=======Epoch:196=======lr:1.0000000000000005e-13\n"
     ]
    },
    {
     "name": "stderr",
     "output_type": "stream",
     "text": [
      "100%|██████████| 3/3 [00:01<00:00,  2.16it/s]\n",
      "100%|██████████| 3/3 [00:00<00:00,  7.46it/s]\n"
     ]
    },
    {
     "name": "stdout",
     "output_type": "stream",
     "text": [
      "Best performance at Epoch: 5 | 0.5783\n",
      "=======Epoch:197=======lr:1.0000000000000005e-13\n"
     ]
    },
    {
     "name": "stderr",
     "output_type": "stream",
     "text": [
      "100%|██████████| 3/3 [00:01<00:00,  2.17it/s]\n",
      "100%|██████████| 3/3 [00:00<00:00,  7.79it/s]\n"
     ]
    },
    {
     "name": "stdout",
     "output_type": "stream",
     "text": [
      "Best performance at Epoch: 5 | 0.5783\n",
      "=======Epoch:198=======lr:1.0000000000000005e-13\n"
     ]
    },
    {
     "name": "stderr",
     "output_type": "stream",
     "text": [
      "100%|██████████| 3/3 [00:01<00:00,  2.13it/s]\n",
      "100%|██████████| 3/3 [00:00<00:00,  6.68it/s]\n"
     ]
    },
    {
     "name": "stdout",
     "output_type": "stream",
     "text": [
      "Best performance at Epoch: 5 | 0.5783\n",
      "=======Epoch:199=======lr:1.0000000000000005e-13\n"
     ]
    },
    {
     "name": "stderr",
     "output_type": "stream",
     "text": [
      "100%|██████████| 3/3 [00:01<00:00,  2.07it/s]\n",
      "100%|██████████| 3/3 [00:00<00:00,  6.00it/s]\n"
     ]
    },
    {
     "name": "stdout",
     "output_type": "stream",
     "text": [
      "Best performance at Epoch: 5 | 0.5783\n"
     ]
    }
   ],
   "source": [
    "from torch.utils.data import DataLoader\n",
    "import torch\n",
    "import torch.optim as optim\n",
    "from tqdm import tqdm\n",
    "from collections import OrderedDict\n",
    "\n",
    "\n",
    "\n",
    "model = ResUNet(in_channel=1, out_channel=2,training=True).to(\"cuda\")\n",
    "optimizer = optim.Adam(model.parameters(), lr=0.0001)\n",
    "loss = TverskyLoss()\n",
    "\n",
    "\n",
    "\n",
    "best = [0,0] \n",
    "trigger = 0  # early stop\n",
    "alpha = 0.4 # \n",
    "  \n",
    "\n",
    "for epoch in range(1, 200):\n",
    "    adjust_learning_rate(optimizer, epoch, 0.0001)\n",
    "    train_log = train(model, train_loader, optimizer, loss, 2, alpha)\n",
    "    val_log = val(model, val_loader, loss, 2)\n",
    "    state = {'net': model.state_dict(),'optimizer':optimizer.state_dict(),'epoch': epoch}\n",
    "    torch.save(state, os.path.join(\"/bigwork/nhwpajjy/competition/cryoet/resnet_output\", 'latest_model.pth'))\n",
    "    trigger += 1\n",
    "    if val_log['Val_dice_liver'] > best[1]:\n",
    "        print('Saving best model')\n",
    "        torch.save(state, os.path.join(\"/bigwork/nhwpajjy/competition/cryoet/resnet_output\", 'best_model.pth'))\n",
    "        best[0] = epoch\n",
    "        best[1] = val_log['Val_dice_liver']\n",
    "        trigger = 0\n",
    "    print('Best performance at Epoch: {} | {}'.format(best[0],best[1]))\n",
    "    if epoch % 30 == 0: alpha *= 0.8\n",
    "    torch.cuda.empty_cache()"
   ]
  },
  {
   "cell_type": "code",
   "execution_count": null,
   "id": "178dcf04-8919-4a9b-a3e4-6c0056c3b879",
   "metadata": {},
   "outputs": [],
   "source": []
  },
  {
   "cell_type": "code",
   "execution_count": null,
   "id": "c59a658e-c907-4ddb-bd48-714daa768ba7",
   "metadata": {},
   "outputs": [],
   "source": []
  },
  {
   "cell_type": "code",
   "execution_count": null,
   "id": "5393c0b7-c872-407b-a6a7-a3cd7a6914df",
   "metadata": {},
   "outputs": [],
   "source": []
  }
 ],
 "metadata": {
  "kernelspec": {
   "display_name": "cryoET",
   "language": "python",
   "name": "cryoet"
  },
  "language_info": {
   "codemirror_mode": {
    "name": "ipython",
    "version": 3
   },
   "file_extension": ".py",
   "mimetype": "text/x-python",
   "name": "python",
   "nbconvert_exporter": "python",
   "pygments_lexer": "ipython3",
   "version": "3.12.6"
  }
 },
 "nbformat": 4,
 "nbformat_minor": 5
}
